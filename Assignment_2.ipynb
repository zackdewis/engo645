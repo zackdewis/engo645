{
 "cells": [
  {
   "cell_type": "markdown",
   "metadata": {},
   "source": [
    "# Assignment 2\n",
    "\n",
    "\n",
    "Assignment 2 includes 4 parts. For each part you need to modify the notebook by adding your own programming solutions or written text. \n",
    "\n",
    "Remember to save and commit your changes locally, and push your changes to GitHub after each major change! Regular commits will help you to keep track of your changes (and revert them if needed). Pushing your work to GitHub will ensure that you don't lose any work in case your computer crashes (can happen!).\n",
    "\n",
    "## Notes about the exercise notebook\n",
    "\n",
    "1. The Python code cells where you should make changes contain text that reads:\n",
    "\n",
    "    ```Python\n",
    "\n",
    "    # YOUR CODE HERE\n",
    "    raise NotImplementedError()\n",
    "    \n",
    "    ```\n",
    "    <br/>**You should delete that text and replace it with your solution (code)**.\n",
    "\n",
    "   \n",
    "   <br><br/>\n",
    "2. The Markdown cells where you should make changes contain text that reads:\n",
    "\n",
    "    ```text\n",
    "    \n",
    "    YOUR ANSWER HERE\n",
    "    ```\n",
    "    <br/>**You should delete that text and replace it with your answer**.\n",
    "<br><br/>\n",
    "\n",
    "3. Some of the cells in this Jupyter Notebook are `# test-cell`, which means that you must not edit them.\n",
    "4. **Do not make any changes to the .csv file provided in the data folder.**\n",
    "\n"
   ]
  },
  {
   "cell_type": "markdown",
   "metadata": {},
   "source": [
    "## Problem definition\n",
    "\n",
    "In this assignment, we'll look at a big list of things people bought online in the U.S. from 2020 to 2021—around 400,000 orders! Our job is to figure out what items are often bought together in different places.\n",
    "\n",
    "\n",
    "### Description of columns\n",
    "\n",
    "\n",
    "| Column  | Description  |\n",
    "| --- | --- |\n",
    "| order_id | unique identifier of the order. |\n",
    "| order_date | date of the order. |\n",
    "| status | status of the order. |\n",
    "| price | price of the order. |\n",
    "| category | category of the order. |\n",
    "| payment_method | payment method used for the order. |\n",
    "| cust_id | unique identifier of the customer. |\n",
    "| Name Prefix | prefix of the customer's name. |    \n",
    "| Gender | Gender of the customer. |\n",
    "| Age | Age of the customer. |\n",
    "|County | County of the customer. |\n",
    "|City | City of the customer. |\n",
    "|Zip | Zip of the customer. |\n",
    "|Region | Region of the customer. |\n",
    "|Latitude | Latitude of the customer. |\n",
    "|Longitude | Longitude of the customer. |\n"
   ]
  },
  {
   "cell_type": "markdown",
   "metadata": {},
   "source": [
    "## Part 1 (Loading and Cleaning the Data)\n",
    "\n",
    "First, let's grab the information from the file named `sales.csv` and put it into a variable called `'data'` using `pandas`.\n",
    "\n",
    "Next, try to clean the data and remove `Null` values and `Duplicate` values.\n",
    "\n",
    "*Remember you can use .info() to see more information about your dataframe columns and datatypes.*\n",
    "\n"
   ]
  },
  {
   "cell_type": "code",
   "execution_count": 2,
   "metadata": {},
   "outputs": [
    {
     "name": "stderr",
     "output_type": "stream",
     "text": [
      "C:\\Users\\zackd\\AppData\\Local\\Temp\\ipykernel_28312\\89070230.py:14: DtypeWarning: Columns (0) have mixed types. Specify dtype option on import or set low_memory=False.\n",
      "  data = pd.read_csv(url)\n"
     ]
    }
   ],
   "source": [
    "# import the necessary packages\n",
    "import pandas as pd\n",
    "\n",
    "# load the data\n",
    "data = None\n",
    "\n",
    "# clean the data\n",
    "\n",
    "\n",
    "\n",
    "# YOUR CODE HERE\n",
    "\n",
    "url = 'https://raw.githubusercontent.com/zackdewis/engo645/main/sales.csv'\n",
    "data = pd.read_csv(url)\n",
    "\n",
    "data = data.drop_duplicates().dropna()"
   ]
  },
  {
   "cell_type": "code",
   "execution_count": 3,
   "metadata": {},
   "outputs": [
    {
     "name": "stdout",
     "output_type": "stream",
     "text": [
      "Number of no-data values in each column:\n",
      " order_id          0\n",
      "order_date        0\n",
      "status            0\n",
      "price             0\n",
      "category          0\n",
      "payment_method    0\n",
      "cust_id           0\n",
      "Name Prefix       0\n",
      "Gender            0\n",
      "age               0\n",
      "County            0\n",
      "City              0\n",
      "Zip               0\n",
      "Region            0\n",
      "Latitude          0\n",
      "Longitude         0\n",
      "dtype: int64 \n",
      "\n",
      "Number of duplicate values in each column: 0\n"
     ]
    }
   ],
   "source": [
    "######### This is a test-cell that print the number of null and duplicate rows #########\n",
    "\n",
    "nodata_count = data.isnull().sum()\n",
    "duplicate_count = data.duplicated().sum()\n",
    "\n",
    "print(f'Number of no-data values in each column:\\n {nodata_count} \\n')\n",
    "print(f'Number of duplicate values in each column: {duplicate_count}')"
   ]
  },
  {
   "cell_type": "markdown",
   "metadata": {},
   "source": [
    "## Part 2 (Exploratory Data Analysis)\n",
    "\n",
    "Now, let's do some basic exploration.\n",
    "\n",
    "\n"
   ]
  },
  {
   "cell_type": "markdown",
   "metadata": {},
   "source": [
    "### Step 1: Finding the most popular types of products.\n",
    "\n",
    "Step 1: Find the most popular product category\n",
    "\n",
    "- You can use `groupby` to group the data by the product `category` and then use the `size` method to get the count of each category.\n",
    "- You then can use the new DataFrame and `matplotlib` to plot a bar chart of the product categories.\n",
    "- Remember the tips from assignment 1 to make your chart easy to understand. Add in things like labels, tick marks, a legend, a title, and whatever else makes it look professional!"
   ]
  },
  {
   "cell_type": "code",
   "execution_count": 7,
   "metadata": {},
   "outputs": [
    {
     "name": "stderr",
     "output_type": "stream",
     "text": [
      "C:\\Users\\zackd\\AppData\\Local\\Temp\\ipykernel_35208\\1495706612.py:12: FutureWarning: \n",
      "\n",
      "Passing `palette` without assigning `hue` is deprecated and will be removed in v0.14.0. Assign the `x` variable to `hue` and set `legend=False` for the same effect.\n",
      "\n",
      "  barplot = sns.barplot(popproducts, palette=sns.color_palette(\"pastel\"))\n",
      "C:\\Users\\zackd\\AppData\\Local\\Temp\\ipykernel_35208\\1495706612.py:12: UserWarning: \n",
      "The palette list has fewer values (10) than needed (15) and will cycle, which may produce an uninterpretable plot.\n",
      "  barplot = sns.barplot(popproducts, palette=sns.color_palette(\"pastel\"))\n",
      "C:\\Users\\zackd\\AppData\\Local\\Temp\\ipykernel_35208\\1495706612.py:13: UserWarning: set_ticklabels() should only be used with a fixed number of ticks, i.e. after set_ticks() or using a FixedLocator.\n",
      "  barplot.set_xticklabels(barplot.get_xticklabels(), rotation=40, ha=\"right\")\n"
     ]
    },
    {
     "data": {
      "image/png": "[encoded data removed]",
      "text/plain": [
       "<Figure size 1200x600 with 1 Axes>"
      ]
     },
     "metadata": {},
     "output_type": "display_data"
    }
   ],
   "source": [
    "# Import the necessary packages\n",
    "import matplotlib.pyplot as plt\n",
    "import seaborn as sns         # optionally you can use seaborn style\n",
    "\n",
    "plt.figure(figsize=(12, 6))\n",
    "\n",
    "\n",
    "\n",
    "# YOUR CODE HERE\n",
    "\n",
    "popproducts = data.groupby(data['category']).size()\n",
    "barplot = sns.barplot(popproducts, palette=sns.color_palette(\"pastel\"))\n",
    "barplot.set_xticklabels(barplot.get_xticklabels(), rotation=40, ha=\"right\")\n",
    "plt.title(\"Popularity of Products in Dataset\")\n",
    "plt.ylabel(\"Count\")\n",
    "plt.xlabel(\"Product Category\")\n",
    "\n",
    "plt.show()"
   ]
  },
  {
   "cell_type": "markdown",
   "metadata": {},
   "source": [
    "### Step 2: Understanding Customer Distribution Across Regions\n",
    "\n",
    "Next, we're going to visualize the distribution of unique customer IDs across different regions.\n",
    "\n",
    "- Use columns `Region` and `cust_id` to create a pie chart that illustrates the number of unique customer IDs in each region. This will give us a sense of where our customer base is spread out."
   ]
  },
  {
   "cell_type": "code",
   "execution_count": 5,
   "metadata": {},
   "outputs": [
    {
     "data": {
      "text/plain": [
       "([<matplotlib.patches.Wedge at 0x1c4af6418d0>,\n",
       "  <matplotlib.patches.Wedge at 0x1c4af641810>,\n",
       "  <matplotlib.patches.Wedge at 0x1c4af6425c0>,\n",
       "  <matplotlib.patches.Wedge at 0x1c4af642c80>],\n",
       " [Text(0.6866715699876904, 0.8593498443420122, 'Midwest'),\n",
       "  Text(-0.7559785731380203, 0.7990596954897694, 'Northeast'),\n",
       "  Text(-0.7223085319318984, -0.8296206269725855, 'South'),\n",
       "  Text(0.9216537266966117, -0.6004618289835314, 'West')],\n",
       " [Text(0.37454812908419477, 0.46873627873200663, '28.5%\\n(109355)'),\n",
       "  Text(-0.4123519489843747, 0.4358507429944196, '17.0%\\n(65279)'),\n",
       "  Text(-0.3939864719628536, -0.4525203419850466, '36.0%\\n(138097)'),\n",
       "  Text(0.5027202145617882, -0.32752463399101706, '18.4%\\n(70425)')])"
      ]
     },
     "execution_count": 5,
     "metadata": {},
     "output_type": "execute_result"
    },
    {
     "data": {
      "image/png": "[encoded data removed]",
      "text/plain": [
       "<Figure size 1200x600 with 1 Axes>"
      ]
     },
     "metadata": {},
     "output_type": "display_data"
    }
   ],
   "source": [
    "# Import the necessary packages\n",
    "import matplotlib.pyplot as plt\n",
    "# import seaborn as sns         # optionally you can use seaborn style\n",
    "\n",
    "plt.figure(figsize=(12, 6))\n",
    "\n",
    "\n",
    "\n",
    "# YOUR CODE HERE\n",
    "def autopct_format(values):\n",
    "    def format_percent(pct):\n",
    "        total = sum(values)\n",
    "        value = int(round(pct * total / 100.0))\n",
    "        return f\"{pct:.1f}%\\n({value:d})\"\n",
    "    return format_percent\n",
    "data2 = data.groupby(data['Region'])['cust_id'].count()\n",
    "data2\n",
    "\n",
    "plt.pie(data2, autopct=autopct_format(data2), labels=data2.index)\n",
    "\n",
    "\n",
    "#plt.show()"
   ]
  },
  {
   "cell_type": "markdown",
   "metadata": {},
   "source": [
    "## Part 3 (Market Basket Analysis — Association Rules)\n",
    "\n",
    "Now let's do some Association Rule analysis. \n",
    "We will use the apriori algorithm to find the most common itemsets that are bought together in this online retail store. We use `mlxtend` library to do this. This library requires the data to be in the form of a dataframe where each row represents a transaction and each column represents an item. The items are represented by boolean values (0 and 1).\n",
    "You can instsall mlxtend using:\n",
    "\n",
    "```Python\n",
    "    pip install mlxtend\n",
    "```\n",
    "or:\n",
    "```Python\n",
    "    conda install mlxtend\n",
    "```"
   ]
  },
  {
   "cell_type": "markdown",
   "metadata": {},
   "source": [
    "### Step 1: Convert Data to Transaction Format\n",
    "\n",
    "In this step, we will prepare the data for the Market Basket Analysis. Then, we will use the Apriori algorithm to find the most frequent itemsets in the data.\n",
    "\n",
    "The Apriori algorithm requires the data to be in the form of a list of transactions to be able to generate meaningful rules. Apriori works based on the idea of transactions, where each transaction represents a set of items bought together. We need to transform the data from the data frame format, into transactions such that we have all the items bought together in one row. For example, this is the format we need:\n",
    "\n",
    "![transaction](./img/transactions.png)\n",
    "\n"
   ]
  },
  {
   "cell_type": "markdown",
   "metadata": {},
   "source": [
    "1. You first need to group your data based on transactions and items (`'order_id'`, `'category'`). Use the `groupby` function for this purpose. And count the `'category'` for each group. Save your data into the variable `transactions`\n",
    "\n",
    "2. Then, you need to reshape this data into a format where each row represents a transaction, each column corresponds to an item, and the values are the quantities purchased. You can use the `unstack` function for this.\n",
    "\n",
    "3. Apriori expects a binary dataset where 1 indicates the presence of an item in a transaction, and 0 indicates its absence. Therefore, replace `NaN` values with \"0\", and replace values greater than 1 with \"1\" .\n",
    "\n",
    "*Find more about `mlxtend.frequent_patterns` here : https://rasbt.github.io/mlxtend/user_guide/frequent_patterns/apriori/*"
   ]
  },
  {
   "cell_type": "code",
   "execution_count": 26,
   "metadata": {},
   "outputs": [],
   "source": [
    "transactions = None\n",
    "\n",
    "\n",
    "\n",
    "# YOUR CODE HERE\n",
    "import numpy as np\n",
    "transactions = data.groupby(['order_id', 'category'])['category'].size().reset_index(name='quantity')\n",
    "transactions = transactions.pivot(index='order_id', columns='category', values='quantity').fillna(0)\n",
    "transactions[transactions > 1] = 1\n",
    "\n"
   ]
  },
  {
   "cell_type": "code",
   "execution_count": 27,
   "metadata": {},
   "outputs": [
    {
     "data": {
      "text/html": [
       "<div>\n",
       "<style scoped>\n",
       "    .dataframe tbody tr th:only-of-type {\n",
       "        vertical-align: middle;\n",
       "    }\n",
       "\n",
       "    .dataframe tbody tr th {\n",
       "        vertical-align: top;\n",
       "    }\n",
       "\n",
       "    .dataframe thead th {\n",
       "        text-align: right;\n",
       "    }\n",
       "</style>\n",
       "<table border=\"1\" class=\"dataframe\">\n",
       "  <thead>\n",
       "    <tr style=\"text-align: right;\">\n",
       "      <th>category</th>\n",
       "      <th>Appliances</th>\n",
       "      <th>Beauty &amp; Grooming</th>\n",
       "      <th>Books</th>\n",
       "      <th>Computing</th>\n",
       "      <th>Entertainment</th>\n",
       "      <th>Health &amp; Sports</th>\n",
       "      <th>Home &amp; Living</th>\n",
       "      <th>Kids &amp; Baby</th>\n",
       "      <th>Men's Fashion</th>\n",
       "      <th>Mobiles &amp; Tablets</th>\n",
       "      <th>Others</th>\n",
       "      <th>School &amp; Education</th>\n",
       "      <th>Soghaat</th>\n",
       "      <th>Superstore</th>\n",
       "      <th>Women's Fashion</th>\n",
       "    </tr>\n",
       "    <tr>\n",
       "      <th>order_id</th>\n",
       "      <th></th>\n",
       "      <th></th>\n",
       "      <th></th>\n",
       "      <th></th>\n",
       "      <th></th>\n",
       "      <th></th>\n",
       "      <th></th>\n",
       "      <th></th>\n",
       "      <th></th>\n",
       "      <th></th>\n",
       "      <th></th>\n",
       "      <th></th>\n",
       "      <th></th>\n",
       "      <th></th>\n",
       "      <th></th>\n",
       "    </tr>\n",
       "  </thead>\n",
       "  <tbody>\n",
       "    <tr>\n",
       "      <th>100354677</th>\n",
       "      <td>1.0</td>\n",
       "      <td>0.0</td>\n",
       "      <td>0.0</td>\n",
       "      <td>1.0</td>\n",
       "      <td>0.0</td>\n",
       "      <td>0.0</td>\n",
       "      <td>0.0</td>\n",
       "      <td>0.0</td>\n",
       "      <td>0.0</td>\n",
       "      <td>1.0</td>\n",
       "      <td>0.0</td>\n",
       "      <td>0.0</td>\n",
       "      <td>0.0</td>\n",
       "      <td>0.0</td>\n",
       "      <td>0.0</td>\n",
       "    </tr>\n",
       "    <tr>\n",
       "      <th>100354678</th>\n",
       "      <td>0.0</td>\n",
       "      <td>0.0</td>\n",
       "      <td>0.0</td>\n",
       "      <td>0.0</td>\n",
       "      <td>0.0</td>\n",
       "      <td>0.0</td>\n",
       "      <td>0.0</td>\n",
       "      <td>0.0</td>\n",
       "      <td>1.0</td>\n",
       "      <td>0.0</td>\n",
       "      <td>0.0</td>\n",
       "      <td>0.0</td>\n",
       "      <td>0.0</td>\n",
       "      <td>0.0</td>\n",
       "      <td>0.0</td>\n",
       "    </tr>\n",
       "    <tr>\n",
       "      <th>100354679</th>\n",
       "      <td>1.0</td>\n",
       "      <td>0.0</td>\n",
       "      <td>0.0</td>\n",
       "      <td>0.0</td>\n",
       "      <td>0.0</td>\n",
       "      <td>0.0</td>\n",
       "      <td>0.0</td>\n",
       "      <td>0.0</td>\n",
       "      <td>0.0</td>\n",
       "      <td>0.0</td>\n",
       "      <td>0.0</td>\n",
       "      <td>0.0</td>\n",
       "      <td>0.0</td>\n",
       "      <td>0.0</td>\n",
       "      <td>1.0</td>\n",
       "    </tr>\n",
       "    <tr>\n",
       "      <th>100354680</th>\n",
       "      <td>0.0</td>\n",
       "      <td>0.0</td>\n",
       "      <td>0.0</td>\n",
       "      <td>0.0</td>\n",
       "      <td>0.0</td>\n",
       "      <td>0.0</td>\n",
       "      <td>0.0</td>\n",
       "      <td>0.0</td>\n",
       "      <td>1.0</td>\n",
       "      <td>0.0</td>\n",
       "      <td>0.0</td>\n",
       "      <td>0.0</td>\n",
       "      <td>0.0</td>\n",
       "      <td>0.0</td>\n",
       "      <td>0.0</td>\n",
       "    </tr>\n",
       "    <tr>\n",
       "      <th>100354681</th>\n",
       "      <td>1.0</td>\n",
       "      <td>0.0</td>\n",
       "      <td>0.0</td>\n",
       "      <td>0.0</td>\n",
       "      <td>0.0</td>\n",
       "      <td>0.0</td>\n",
       "      <td>0.0</td>\n",
       "      <td>0.0</td>\n",
       "      <td>0.0</td>\n",
       "      <td>0.0</td>\n",
       "      <td>0.0</td>\n",
       "      <td>0.0</td>\n",
       "      <td>0.0</td>\n",
       "      <td>0.0</td>\n",
       "      <td>0.0</td>\n",
       "    </tr>\n",
       "  </tbody>\n",
       "</table>\n",
       "</div>"
      ],
      "text/plain": [
       "category   Appliances  Beauty & Grooming  Books  Computing  Entertainment  \\\n",
       "order_id                                                                    \n",
       "100354677         1.0                0.0    0.0        1.0            0.0   \n",
       "100354678         0.0                0.0    0.0        0.0            0.0   \n",
       "100354679         1.0                0.0    0.0        0.0            0.0   \n",
       "100354680         0.0                0.0    0.0        0.0            0.0   \n",
       "100354681         1.0                0.0    0.0        0.0            0.0   \n",
       "\n",
       "category   Health & Sports  Home & Living  Kids & Baby  Men's Fashion  \\\n",
       "order_id                                                                \n",
       "100354677              0.0            0.0          0.0            0.0   \n",
       "100354678              0.0            0.0          0.0            1.0   \n",
       "100354679              0.0            0.0          0.0            0.0   \n",
       "100354680              0.0            0.0          0.0            1.0   \n",
       "100354681              0.0            0.0          0.0            0.0   \n",
       "\n",
       "category   Mobiles & Tablets  Others  School & Education  Soghaat  Superstore  \\\n",
       "order_id                                                                        \n",
       "100354677                1.0     0.0                 0.0      0.0         0.0   \n",
       "100354678                0.0     0.0                 0.0      0.0         0.0   \n",
       "100354679                0.0     0.0                 0.0      0.0         0.0   \n",
       "100354680                0.0     0.0                 0.0      0.0         0.0   \n",
       "100354681                0.0     0.0                 0.0      0.0         0.0   \n",
       "\n",
       "category   Women's Fashion  \n",
       "order_id                    \n",
       "100354677              0.0  \n",
       "100354678              0.0  \n",
       "100354679              1.0  \n",
       "100354680              0.0  \n",
       "100354681              0.0  "
      ]
     },
     "execution_count": 27,
     "metadata": {},
     "output_type": "execute_result"
    }
   ],
   "source": [
    "######### This is a test-cell that print the first 5 rows of the transactions dataframe #########\n",
    "\n",
    "transactions.head()"
   ]
  },
  {
   "cell_type": "markdown",
   "metadata": {},
   "source": [
    "### Step 2: Apply Apriori Algorithm\n",
    "\n",
    "Now, you're ready to apply the Apriori algorithm. \n",
    "\n",
    "- Use the `apriori` function from`mlxtend.frequent_patterns` to find frequent itemsets. This function takes the encoded transactions and the *minimum support* as input.\n",
    "\n",
    "- You can determine the minimum support threshold. This is the minimum fraction of transactions that should contain a particular itemset for it to be considered frequent. For example, if you set `min_support=0.2`, it means you're interested in itemsets that appear in at least 20% of the transactions.\n",
    "\n",
    "- Use `use_colnames=True` to convert the column names into item names\n",
    "\n",
    "\n",
    "*Find more about `mlxtend.frequent_patterns` here : https://rasbt.github.io/mlxtend/user_guide/frequent_patterns/apriori/*"
   ]
  },
  {
   "cell_type": "code",
   "execution_count": 16,
   "metadata": {},
   "outputs": [
    {
     "ename": "NotImplementedError",
     "evalue": "",
     "output_type": "error",
     "traceback": [
      "\u001b[1;31m---------------------------------------------------------------------------\u001b[0m",
      "\u001b[1;31mNotImplementedError\u001b[0m                       Traceback (most recent call last)",
      "Cell \u001b[1;32mIn[16], line 12\u001b[0m\n\u001b[0;32m      6\u001b[0m frequent_itemsets \u001b[38;5;241m=\u001b[39m \u001b[38;5;28;01mNone\u001b[39;00m\n\u001b[0;32m     10\u001b[0m \u001b[38;5;66;03m# YOUR CODE HERE\u001b[39;00m\n\u001b[1;32m---> 12\u001b[0m \u001b[38;5;28;01mraise\u001b[39;00m \u001b[38;5;167;01mNotImplementedError\u001b[39;00m()\n",
      "\u001b[1;31mNotImplementedError\u001b[0m: "
     ]
    }
   ],
   "source": [
    "from mlxtend.frequent_patterns import apriori\n",
    "\n",
    "# adjust the minimum support \n",
    "# Use `use_colnames=True` to convert the column names into item names\n",
    "\n",
    "frequent_itemsets = None\n",
    "\n",
    "\n",
    "\n",
    "# YOUR CODE HERE\n",
    "\n",
    "raise NotImplementedError()\n",
    "\n"
   ]
  },
  {
   "cell_type": "code",
   "execution_count": null,
   "metadata": {},
   "outputs": [],
   "source": [
    "######### This is a test-cell that print the frequent itemsets #########\n",
    "\n",
    "frequent_itemsets.sort_values(by='support', ascending=False)"
   ]
  },
  {
   "cell_type": "markdown",
   "metadata": {},
   "source": [
    "### Question 1:\n",
    "\n",
    "Q1. The result of the Apriori algorithm is a DataFrame of frequent itemsets along with their support levels. Repeat the Step 2 and explore this DataFrame with 3 different `support threshold` to understand which itemsets are frequent based on your chosen support threshold. Based on what you learned during the lectures, discuss the result of each threshold if few sentences."
   ]
  },
  {
   "cell_type": "code",
   "execution_count": null,
   "metadata": {},
   "outputs": [],
   "source": [
    "frequent_itemsets_1 = None\n",
    "frequent_itemsets_2 = None\n",
    "frequent_itemsets_3 = None\n",
    "\n",
    "\n",
    "# YOUR CODE HERE\n",
    "\n",
    "raise NotImplementedError()\n"
   ]
  },
  {
   "cell_type": "code",
   "execution_count": null,
   "metadata": {},
   "outputs": [],
   "source": [
    "######### This is a test-cell that print the frequent itemsets 1 #########\n",
    "\n",
    "frequent_itemsets_1"
   ]
  },
  {
   "cell_type": "code",
   "execution_count": null,
   "metadata": {},
   "outputs": [],
   "source": [
    "######### This is a test-cell that print the frequent itemsets 2 #########\n",
    "\n",
    "frequent_itemsets_2"
   ]
  },
  {
   "cell_type": "code",
   "execution_count": null,
   "metadata": {},
   "outputs": [],
   "source": [
    "######### This is a test-cell that print the frequent itemsets 3 #########\n",
    "\n",
    "frequent_itemsets_3"
   ]
  },
  {
   "cell_type": "markdown",
   "metadata": {},
   "source": [
    ".\n",
    "\n",
    "YOUR ANSWER HERE\n",
    "\n",
    "."
   ]
  },
  {
   "cell_type": "markdown",
   "metadata": {},
   "source": [
    "### Step 3: Generate Association Rules\n",
    "\n",
    "After identifying frequent itemsets, you can generate *association rules* using the `association_rules` function. This step involves specifying additional metrics like **suppport**, **confidence** or **lift** to filter interesting rules. You can define `min_threshold` as the minimum threshold for the chosen metric. Rules with metrics below this threshold are filtered out.\n",
    "\n",
    "Association rules reveal relationships between items in a dataset, particularly those that tend to co-occur.\n",
    "\n",
    "\n",
    "\n"
   ]
  },
  {
   "cell_type": "code",
   "execution_count": null,
   "metadata": {},
   "outputs": [],
   "source": [
    "from mlxtend.frequent_patterns import association_rules\n",
    "\n",
    "\n",
    "\n",
    "rules  = None\n",
    "\n",
    "\n",
    "\n",
    "# YOUR CODE HERE\n",
    "\n",
    "raise NotImplementedError()\n"
   ]
  },
  {
   "cell_type": "markdown",
   "metadata": {},
   "source": [
    "### Step 3: Visualizing itemset support (Optional)\n",
    "\n",
    "Heatmaps help us understand a large number of rules between a small number of antecedents and consequents\n",
    "\n",
    "You can use the `pivot` function to transform the DataFrame `rules` into a matrix format. The rows represent \"consequents\", the columns represent \"antecedents\", and the values in the matrix represent the \"support values\" for the corresponding antecedent-consequent pairs.\n",
    "\n",
    "Then, you can sns.heatmap function from the Seaborn library to create a heatmap.\n",
    "\n"
   ]
  },
  {
   "cell_type": "code",
   "execution_count": null,
   "metadata": {},
   "outputs": [],
   "source": [
    "\n",
    "import seaborn as sns\n",
    "\n",
    "\n",
    "\n",
    "\n",
    "\n",
    "# YOUR CODE HERE\n",
    "\n",
    "raise NotImplementedError()\n",
    "\n"
   ]
  },
  {
   "cell_type": "markdown",
   "metadata": {},
   "source": [
    "### Question 2:\n",
    "\n",
    "\n",
    "Q2. So far, you have successfully used the `association_rules` function from the `mlxtend.frequent_patterns` library to identify patterns in the data. Specifically, you found a set of association rules that describe the relationships between different product categories.\n",
    "\n",
    "Your task now is to interpret these association rules and make some observations about the data. To do this, please answer the following questions:\n",
    "\n",
    "- What does each association rule tell us? In other words, what kind of relationship is being described between two sets of products? (For example, \"if a customer buys X, then they are likely to also buy Y\".)\n",
    "\n",
    "- How could we modify the association rules to better capture the relationships between different product categories For example, instead of looking at individual products, could we group similar products together and look for patterns within those groups?\n",
    "\n",
    "- Now imagine you wanted to compare the performance of different evaluation metrics (such as support, confidence, and lift) across the different association rules you identified. Which metric would you choose to evaluate each rule, and how would the results compare across all the rules? Explain your reasoning.\n",
    "\n",
    "- Finally, think about how the insights gained from these association rules could be applied in practice. For instance, if we know that customers who buy product category (X) are more likely to also buy product category (Y), we could target our marketing efforts towards those customers. Or, if we notice a pattern where customers tend to purchase multiple items from the same category (e.g., Appliances), we could create bundled deals to encourage additional purchases. Can you come up with other potential applications of these insights?\n"
   ]
  },
  {
   "cell_type": "markdown",
   "metadata": {},
   "source": [
    ".\n",
    "\n",
    "YOUR ANSWER HERE\n",
    "\n",
    "."
   ]
  },
  {
   "cell_type": "markdown",
   "metadata": {},
   "source": [
    "## Part 4 (Exploring Geographic Patterns in Market Basket Analysis)\n",
    "\n",
    "TIn this part, we are going to analyze association rules based on the geographical location of transactions within different US provinces. We want to see the association rules in some sample states and check if they are different.\n"
   ]
  },
  {
   "cell_type": "markdown",
   "metadata": {},
   "source": [
    "### Step 1: Load US State Boundary Shape Files\n",
    "\n",
    "- In order to be able to distinguish the location of customers based on the state, we need to know the US boundaries so we can filter customer locations within any desired state that we want.\n",
    "\n",
    "- You can use `GeoPandas` library to read and load the US boundary shape file `us_state.shp` in the `data` folder into a GeoDataFrame.\n",
    "\n",
    "*More info : https://geopandas.org/en/stable/getting_started/introduction.html*"
   ]
  },
  {
   "cell_type": "code",
   "execution_count": null,
   "metadata": {},
   "outputs": [],
   "source": [
    "import geopandas as gpd\n",
    "\n",
    "\n",
    "us_states = None\n",
    "\n",
    "\n",
    "\n",
    "# YOUR CODE HERE\n",
    "\n",
    "raise NotImplementedError()"
   ]
  },
  {
   "cell_type": "markdown",
   "metadata": {},
   "source": [
    "### Step 2: Show all the data on folium map\n",
    "\n",
    "Now that we have US states, lets show the location of our customers and US states on the map.\n",
    "\n",
    "\n",
    "- Create a `folium.Map` object with the location of the first customer\n",
    "- Use `folium.plugins.MarkerCluster` to show the location of the customers (try to show the fisrt 2000 customer locations, as showing all the locations makes the map heavy)\n",
    "- Use `folium.GeoJson` to show the US states on map as well"
   ]
  },
  {
   "cell_type": "code",
   "execution_count": null,
   "metadata": {},
   "outputs": [],
   "source": [
    "# Import the necessary packages\n",
    "import folium\n",
    "from folium.plugins import MarkerCluster\n",
    "\n",
    "# Create a map\n",
    "m = folium.Map(location=[37, -102], zoom_start=5)\n",
    "\n",
    "# Add points to the map\n",
    "\n",
    "# Add us_states to the map\n",
    "\n",
    "\n",
    "\n",
    "# YOUR CODE HERE\n",
    "\n",
    "raise NotImplementedError()\n",
    "\n",
    "# Display the map\n",
    "m"
   ]
  },
  {
   "cell_type": "markdown",
   "metadata": {},
   "source": [
    "### Step 3: Spatial Filtering Based on Location Data\n",
    "\n",
    "Now that we have loaded the US provinces shape file with geopandas, we need to filter the data based on the geographical boundaries of US provinces to create subsets for each state.\n",
    "\n",
    "First we need to make sure that both files have `GeoDataFrame` structure so that we can perform spatial operation on both of them.\n",
    "\n",
    "*A Geodataframe is a type of data structure in GeoPandas that stores geometric data (like points, lines, polygons, etc.) along with associated attributes.\n",
    "*\n",
    "- In order to convert `data` from pandas DataFrame to GeoDataFrame, you need to extract the `\"Latitude\"` and `\"Longitude\"` and create a `geometry` columns from the DataFrame and create a new Geodataframe based on the extracted `geometry` column. Name the new GeoDataFrame as `gdf_data`.\n",
    "- Use `crs=4326` to specifiy the EPSG code for the coordinate reference system (CRS) used in the GeoDataFrame. \n"
   ]
  },
  {
   "cell_type": "code",
   "execution_count": null,
   "metadata": {},
   "outputs": [],
   "source": [
    "# import the necessary packages\n",
    "from shapely.geometry import Point\n",
    "\n",
    "# create a geometry column\n",
    "geometry = None\n",
    "\n",
    "# create a GeoDataFrame\n",
    "gdf_data = None\n",
    "\n",
    "\n",
    "\n",
    "# YOUR CODE HERE\n",
    "\n",
    "raise NotImplementedError()\n",
    "\n"
   ]
  },
  {
   "cell_type": "code",
   "execution_count": null,
   "metadata": {},
   "outputs": [],
   "source": [
    "gdf_data.head() "
   ]
  },
  {
   "cell_type": "markdown",
   "metadata": {},
   "source": [
    "### Step 4: Conducting Spatial Join\n",
    "\n",
    "This step involves matching each customer location to its corresponding US state based on their locations.\n",
    "\n",
    "*A spatial join is a method in Geographic Information Systems (GIS) that combines two datasets based on their spatial relationships. It associates the attributes of one dataset with the spatial features of another.*\n",
    "\n",
    "*for more info about spatial join : https://geopandas.org/en/stable/gallery/spatial_joins.html*"
   ]
  },
  {
   "cell_type": "markdown",
   "metadata": {},
   "source": [
    "- First, let's confirm that your transaction data DataFrame `gdf_data` and the US province GeoDataFrame `us_states` are both in the same coordinate reference system (CRS). If not, align them by using the `to_crs` method."
   ]
  },
  {
   "cell_type": "code",
   "execution_count": null,
   "metadata": {},
   "outputs": [],
   "source": [
    "\n",
    "# get the crs of the us_provinces\n",
    "crs_us_states = None\n",
    "# get the crs of the gdf_data\n",
    "crs_gdf_data = None\n",
    "\n",
    "\n",
    "# YOUR CODE HERE\n",
    "\n",
    "raise NotImplementedError()\n",
    "\n"
   ]
  },
  {
   "cell_type": "code",
   "execution_count": null,
   "metadata": {},
   "outputs": [],
   "source": [
    "######### This is a test-cell that print the crs of the us_provinces and gdf_data #########\n",
    "\n",
    "print(crs_us_states)\n",
    "print(crs_gdf_data)"
   ]
  },
  {
   "cell_type": "markdown",
   "metadata": {},
   "source": [
    "- Next, perform the spatial join using the `sjoin()` method from GeoPandas and create a new DataFrame named `gdf_data_with_states`"
   ]
  },
  {
   "cell_type": "code",
   "execution_count": null,
   "metadata": {},
   "outputs": [],
   "source": [
    "# perfrom a spatial join\n",
    "\n",
    "gdf_data_with_states = None\n",
    "\n",
    "\n",
    "\n",
    "# YOUR CODE HERE\n",
    "\n",
    "raise NotImplementedError()\n",
    "\n"
   ]
  },
  {
   "cell_type": "markdown",
   "metadata": {},
   "source": [
    "The resulting DataFrame will have additional columns, including those from the US province GeoDataFrame, appended to each row of the `gdf_data` based on the spatial relationship."
   ]
  },
  {
   "cell_type": "code",
   "execution_count": null,
   "metadata": {},
   "outputs": [],
   "source": [
    "######### This is a test-cell that print the first 5 rows of the gdf_data_with_provinces #########\n",
    "\n",
    "gdf_data_with_states.head()"
   ]
  },
  {
   "cell_type": "markdown",
   "metadata": {},
   "source": [
    "### Step 5: Association Rule Mining Based on States\n",
    "\n",
    "Now everything is ready to apply association rule mining to unearth patterns in transaction data specific to each US state.\n",
    "\n",
    "- As an example, select 3 different states\n",
    "- Create a new DataFrame for each of the selected states and stored filtered `gdf_data_with_states` based on the selected states in each DataFrame\n",
    "- Follow the steps in **Part 3** to extract frequent itemsets and association rules for all 3 states\n",
    "\n"
   ]
  },
  {
   "cell_type": "code",
   "execution_count": null,
   "metadata": {},
   "outputs": [],
   "source": [
    "\n",
    "\n",
    "\n",
    "# YOUR CODE HERE\n",
    "\n",
    "raise NotImplementedError()\n",
    "\n"
   ]
  },
  {
   "cell_type": "markdown",
   "metadata": {},
   "source": [
    "### Question 3: \n",
    "\n",
    "Compare the resulted association rules derived from all 3 selected states and give us detailed insights about differences and similarities in customers preferences in each state."
   ]
  },
  {
   "cell_type": "markdown",
   "metadata": {},
   "source": [
    ".\n",
    "\n",
    "YOUR ANSWER HERE\n",
    "\n",
    "."
   ]
  }
 ],
 "metadata": {
  "kernelspec": {
   "display_name": "Python 3",
   "language": "python",
   "name": "python3"
  },
  "language_info": {
   "codemirror_mode": {
    "name": "ipython",
    "version": 3
   },
   "file_extension": ".py",
   "mimetype": "text/x-python",
   "name": "python",
   "nbconvert_exporter": "python",
   "pygments_lexer": "ipython3",
   "version": "3.10.11"
  }
 },
 "nbformat": 4,
 "nbformat_minor": 2
}
