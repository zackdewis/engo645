{
 "cells": [
  {
   "cell_type": "markdown",
   "metadata": {},
   "source": [
    "# Assignment 1\n",
    "\n",
    "\n",
    "Assignment 1 includes 4 parts. For each part you need to modify the notebook by adding your own programming solutions or written text. \n",
    "\n",
    "Remember to save and commit your changes locally, and push your changes to GitHub after each major change! Regular commits will help you to keep track of your changes (and revert them if needed). Pushing your work to GitHub will ensure that you don't lose any work in case your computer crashes (can happen!).\n",
    "\n",
    "## Notes about the exercise notebook\n",
    "\n",
    "1. The Python code cells where you should make changes contain text that reads:\n",
    "\n",
    "    ```Python\n",
    "\n",
    "    # YOUR CODE HERE\n",
    "    raise NotImplementedError()\n",
    "    \n",
    "    ```\n",
    "    <br/>**You should delete that text and replace it with your solution (code)**.\n",
    "\n",
    "   \n",
    "   <br><br/>\n",
    "2. The Markdown cells where you should make changes contain text that reads:\n",
    "\n",
    "    ```text\n",
    "    \n",
    "    YOUR ANSWER HERE\n",
    "    ```\n",
    "    <br/>**You should delete that text and replace it with your answer**.\n",
    "<br><br/>\n",
    "\n",
    "3. Some of the cells in this Jupyter Notebook are `# test-cell`, which means that you must not edit them.\n",
    "4. **Do not make any changes to the .csv file provided in the data folder.**\n",
    "\n"
   ]
  },
  {
   "cell_type": "markdown",
   "metadata": {},
   "source": [
    "# Problem Definition\n"
   ]
  },
  {
   "cell_type": "markdown",
   "metadata": {},
   "source": [
    "\n",
    "\n",
    "In this assignment, we'll dive into a dataset containing 100,000 orders made in Brazil from 2016 to 2018. Our goal is to use the features of python `pandas` and `matplotlib`, to explore, calculate, and visualize interesting things about this e-commerce data.\n",
    "\n",
    "\n",
    "### Description of columns\n",
    "\n",
    "| Column  | Description  |\n",
    "| --- | --- |\n",
    "| order_id | unique identifier of the order. |\n",
    "| order_status | Reference to the order status (delivered, shipped, etc). |\n",
    "| order_purchase_timestamp | Shows the purchase timestamp. |\n",
    "| order_delivered_carrier_date | Shows the order posting timestamp. When it was handled to the logistic partner. |\n",
    "| order_delivered_customer_date | Shows the actual order delivery date to the customer. |\n",
    "| order_estimated_delivery_date | Shows the estimated delivery date that was informed to customer at the purchase moment. |\n",
    "|order_item_id | sequential number identifying number of items included in the same order. |\n",
    "| --- | --- |\n",
    "| customer_unique_id | unique identifier of a customer. |\n",
    "| customer_zip_code_prefix | first five digits of customer zip code |\n",
    "| customer_city | customer city name |\n",
    "| customer_state | customer state |\n",
    "| customer_latitude | customer location information|\n",
    "| customer_longitude | customer location information|\n",
    "| --- | --- |\n",
    "| review_score | Note ranging from 1 to 5 given by the customer on a satisfaction survey. |\n",
    "| review_comment_message | Comment message from the review left by the customer, in Portuguese. |\n",
    "| --- | --- |\n",
    "| price | item price |\n",
    "| freight_value | item freight value item (if an order has more than one item the freight value is splitted between items) |\n",
    "| --- | --- |\n",
    "| product_category_name | root category type of product, in English. |\n",
    "| --- | --- |\n",
    "| seller_zip_code_prefix | first 5 digits of seller zip code |\n",
    "| seller_city | seller city name |\n"
   ]
  },
  {
   "cell_type": "markdown",
   "metadata": {},
   "source": [
    "## Part 1 (Loading data)\n",
    "\n",
    "The first step for this problem is to read the data file `e-commerce_data.csv` into a variable `data` using pandas.\n",
    "\n",
    "Remember you can use .info() to see more information about your dataframe columns and datatypes."
   ]
  },
  {
   "cell_type": "code",
   "execution_count": 126,
   "metadata": {},
   "outputs": [],
   "source": [
    "# import the necessary packages\n",
    "import pandas as pd\n",
    "\n",
    "# load the data\n",
    "data = None\n",
    "\n",
    "\n",
    "\n",
    "\n",
    "# YOUR CODE HERE\n",
    "data = pd.read_csv('C:/ENGO645/e-commerce_data.csv')"
   ]
  },
  {
   "cell_type": "markdown",
   "metadata": {},
   "source": [
    "Check that the first 5 rows of the DataFrame look ok: (show the first 5 rows)"
   ]
  },
  {
   "cell_type": "code",
   "execution_count": 127,
   "metadata": {},
   "outputs": [
    {
     "data": {
      "text/html": [
       "<div>\n",
       "<style scoped>\n",
       "    .dataframe tbody tr th:only-of-type {\n",
       "        vertical-align: middle;\n",
       "    }\n",
       "\n",
       "    .dataframe tbody tr th {\n",
       "        vertical-align: top;\n",
       "    }\n",
       "\n",
       "    .dataframe thead th {\n",
       "        text-align: right;\n",
       "    }\n",
       "</style>\n",
       "<table border=\"1\" class=\"dataframe\">\n",
       "  <thead>\n",
       "    <tr style=\"text-align: right;\">\n",
       "      <th></th>\n",
       "      <th>order_id</th>\n",
       "      <th>order_status</th>\n",
       "      <th>order_purchase_timestamp</th>\n",
       "      <th>order_delivered_carrier_date</th>\n",
       "      <th>order_delivered_customer_date</th>\n",
       "      <th>order_estimated_delivery_date</th>\n",
       "      <th>customer_unique_id</th>\n",
       "      <th>customer_zip_code_prefix</th>\n",
       "      <th>order_item_id</th>\n",
       "      <th>product_id</th>\n",
       "      <th>price</th>\n",
       "      <th>freight_value</th>\n",
       "      <th>seller_zip_code_prefix</th>\n",
       "      <th>seller_city</th>\n",
       "      <th>product_category_name_english</th>\n",
       "      <th>review_score</th>\n",
       "      <th>customer_latitude</th>\n",
       "      <th>customer_longitude</th>\n",
       "      <th>customer_city</th>\n",
       "      <th>customer_state</th>\n",
       "    </tr>\n",
       "  </thead>\n",
       "  <tbody>\n",
       "    <tr>\n",
       "      <th>0</th>\n",
       "      <td>e481f51cbdc54678b7cc49136f2d6af7</td>\n",
       "      <td>delivered</td>\n",
       "      <td>2017-10-02 10:56:33</td>\n",
       "      <td>2017-10-04 19:55:00</td>\n",
       "      <td>2017-10-10 21:25:13</td>\n",
       "      <td>2017-10-18 00:00:00</td>\n",
       "      <td>7c396fd4830fd04220f754e42b4e5bff</td>\n",
       "      <td>3149</td>\n",
       "      <td>1.0</td>\n",
       "      <td>87285b34884572647811a353c7ac498a</td>\n",
       "      <td>29.99</td>\n",
       "      <td>8.72</td>\n",
       "      <td>9350.0</td>\n",
       "      <td>maua</td>\n",
       "      <td>housewares</td>\n",
       "      <td>4.0</td>\n",
       "      <td>-23.574809</td>\n",
       "      <td>-46.587471</td>\n",
       "      <td>sao paulo</td>\n",
       "      <td>SP</td>\n",
       "    </tr>\n",
       "    <tr>\n",
       "      <th>1</th>\n",
       "      <td>53cdb2fc8bc7dce0b6741e2150273451</td>\n",
       "      <td>delivered</td>\n",
       "      <td>2018-07-24 20:41:37</td>\n",
       "      <td>2018-07-26 14:31:00</td>\n",
       "      <td>2018-08-07 15:27:45</td>\n",
       "      <td>2018-08-13 00:00:00</td>\n",
       "      <td>af07308b275d755c9edb36a90c618231</td>\n",
       "      <td>47813</td>\n",
       "      <td>1.0</td>\n",
       "      <td>595fac2a385ac33a80bd5114aec74eb8</td>\n",
       "      <td>118.70</td>\n",
       "      <td>22.76</td>\n",
       "      <td>31570.0</td>\n",
       "      <td>belo horizonte</td>\n",
       "      <td>perfumery</td>\n",
       "      <td>4.0</td>\n",
       "      <td>-12.169860</td>\n",
       "      <td>-44.988369</td>\n",
       "      <td>barreiras</td>\n",
       "      <td>BA</td>\n",
       "    </tr>\n",
       "    <tr>\n",
       "      <th>2</th>\n",
       "      <td>47770eb9100c2d0c44946d9cf07ec65d</td>\n",
       "      <td>delivered</td>\n",
       "      <td>2018-08-08 08:38:49</td>\n",
       "      <td>2018-08-08 13:50:00</td>\n",
       "      <td>2018-08-17 18:06:29</td>\n",
       "      <td>2018-09-04 00:00:00</td>\n",
       "      <td>3a653a41f6f9fc3d2a113cf8398680e8</td>\n",
       "      <td>75265</td>\n",
       "      <td>1.0</td>\n",
       "      <td>aa4383b373c6aca5d8797843e5594415</td>\n",
       "      <td>159.90</td>\n",
       "      <td>19.22</td>\n",
       "      <td>14840.0</td>\n",
       "      <td>guariba</td>\n",
       "      <td>auto</td>\n",
       "      <td>5.0</td>\n",
       "      <td>-16.746337</td>\n",
       "      <td>-48.514624</td>\n",
       "      <td>vianopolis</td>\n",
       "      <td>GO</td>\n",
       "    </tr>\n",
       "    <tr>\n",
       "      <th>3</th>\n",
       "      <td>949d5b44dbf5de918fe9c16f97b45f8a</td>\n",
       "      <td>delivered</td>\n",
       "      <td>2017-11-18 19:28:06</td>\n",
       "      <td>2017-11-22 13:39:59</td>\n",
       "      <td>2017-12-02 00:28:42</td>\n",
       "      <td>2017-12-15 00:00:00</td>\n",
       "      <td>7c142cf63193a1473d2e66489a9ae977</td>\n",
       "      <td>59296</td>\n",
       "      <td>1.0</td>\n",
       "      <td>d0b61bfb1de832b15ba9d266ca96e5b0</td>\n",
       "      <td>45.00</td>\n",
       "      <td>27.20</td>\n",
       "      <td>31842.0</td>\n",
       "      <td>belo horizonte</td>\n",
       "      <td>pet_shop</td>\n",
       "      <td>5.0</td>\n",
       "      <td>-5.767733</td>\n",
       "      <td>-35.275467</td>\n",
       "      <td>sao goncalo do amarante</td>\n",
       "      <td>RN</td>\n",
       "    </tr>\n",
       "    <tr>\n",
       "      <th>4</th>\n",
       "      <td>ad21c59c0840e6cb83a9ceb5573f8159</td>\n",
       "      <td>delivered</td>\n",
       "      <td>2018-02-13 21:18:39</td>\n",
       "      <td>2018-02-14 19:46:34</td>\n",
       "      <td>2018-02-16 18:17:02</td>\n",
       "      <td>2018-02-26 00:00:00</td>\n",
       "      <td>72632f0f9dd73dfee390c9b22eb56dd6</td>\n",
       "      <td>9195</td>\n",
       "      <td>1.0</td>\n",
       "      <td>65266b2da20d04dbe00c5c2d3bb7859e</td>\n",
       "      <td>19.90</td>\n",
       "      <td>8.72</td>\n",
       "      <td>8752.0</td>\n",
       "      <td>mogi das cruzes</td>\n",
       "      <td>stationery</td>\n",
       "      <td>5.0</td>\n",
       "      <td>-23.675037</td>\n",
       "      <td>-46.524784</td>\n",
       "      <td>santo andre</td>\n",
       "      <td>SP</td>\n",
       "    </tr>\n",
       "  </tbody>\n",
       "</table>\n",
       "</div>"
      ],
      "text/plain": [
       "                           order_id order_status order_purchase_timestamp  \\\n",
       "0  e481f51cbdc54678b7cc49136f2d6af7    delivered      2017-10-02 10:56:33   \n",
       "1  53cdb2fc8bc7dce0b6741e2150273451    delivered      2018-07-24 20:41:37   \n",
       "2  47770eb9100c2d0c44946d9cf07ec65d    delivered      2018-08-08 08:38:49   \n",
       "3  949d5b44dbf5de918fe9c16f97b45f8a    delivered      2017-11-18 19:28:06   \n",
       "4  ad21c59c0840e6cb83a9ceb5573f8159    delivered      2018-02-13 21:18:39   \n",
       "\n",
       "  order_delivered_carrier_date order_delivered_customer_date  \\\n",
       "0          2017-10-04 19:55:00           2017-10-10 21:25:13   \n",
       "1          2018-07-26 14:31:00           2018-08-07 15:27:45   \n",
       "2          2018-08-08 13:50:00           2018-08-17 18:06:29   \n",
       "3          2017-11-22 13:39:59           2017-12-02 00:28:42   \n",
       "4          2018-02-14 19:46:34           2018-02-16 18:17:02   \n",
       "\n",
       "  order_estimated_delivery_date                customer_unique_id  \\\n",
       "0           2017-10-18 00:00:00  7c396fd4830fd04220f754e42b4e5bff   \n",
       "1           2018-08-13 00:00:00  af07308b275d755c9edb36a90c618231   \n",
       "2           2018-09-04 00:00:00  3a653a41f6f9fc3d2a113cf8398680e8   \n",
       "3           2017-12-15 00:00:00  7c142cf63193a1473d2e66489a9ae977   \n",
       "4           2018-02-26 00:00:00  72632f0f9dd73dfee390c9b22eb56dd6   \n",
       "\n",
       "   customer_zip_code_prefix  order_item_id                        product_id  \\\n",
       "0                      3149            1.0  87285b34884572647811a353c7ac498a   \n",
       "1                     47813            1.0  595fac2a385ac33a80bd5114aec74eb8   \n",
       "2                     75265            1.0  aa4383b373c6aca5d8797843e5594415   \n",
       "3                     59296            1.0  d0b61bfb1de832b15ba9d266ca96e5b0   \n",
       "4                      9195            1.0  65266b2da20d04dbe00c5c2d3bb7859e   \n",
       "\n",
       "    price  freight_value  seller_zip_code_prefix      seller_city  \\\n",
       "0   29.99           8.72                  9350.0             maua   \n",
       "1  118.70          22.76                 31570.0   belo horizonte   \n",
       "2  159.90          19.22                 14840.0          guariba   \n",
       "3   45.00          27.20                 31842.0   belo horizonte   \n",
       "4   19.90           8.72                  8752.0  mogi das cruzes   \n",
       "\n",
       "  product_category_name_english  review_score  customer_latitude  \\\n",
       "0                    housewares           4.0         -23.574809   \n",
       "1                     perfumery           4.0         -12.169860   \n",
       "2                          auto           5.0         -16.746337   \n",
       "3                      pet_shop           5.0          -5.767733   \n",
       "4                    stationery           5.0         -23.675037   \n",
       "\n",
       "   customer_longitude            customer_city customer_state  \n",
       "0          -46.587471                sao paulo             SP  \n",
       "1          -44.988369                barreiras             BA  \n",
       "2          -48.514624               vianopolis             GO  \n",
       "3          -35.275467  sao goncalo do amarante             RN  \n",
       "4          -46.524784              santo andre             SP  "
      ]
     },
     "execution_count": 127,
     "metadata": {},
     "output_type": "execute_result"
    }
   ],
   "source": [
    "\n",
    "\n",
    "\n",
    "\n",
    "# YOUR CODE HERE\n",
    "data.head(5)"
   ]
  },
  {
   "cell_type": "markdown",
   "metadata": {},
   "source": [
    "## Part 2 (Cleaning data)"
   ]
  },
  {
   "cell_type": "markdown",
   "metadata": {},
   "source": [
    "\n",
    "\n",
    "### Step 1:\n",
    "First step in cleaning is to check how many no-data (missing values) and duplicate values we have:\n",
    "\n",
    "- Check how many no-data (null) values exist for each column\n",
    "- Check how many duplicate rows exist (How many rows have identical values for all columns)"
   ]
  },
  {
   "cell_type": "code",
   "execution_count": 128,
   "metadata": {},
   "outputs": [],
   "source": [
    "nodata_count = None # count the number of nodata values\n",
    "duplicate_count = None # count the number of duplicate values\n",
    "\n",
    "\n",
    "# YOUR CODE HERE\n",
    "nodata_count = data.isnull().sum().sum()\n",
    "duplicate_count = data.duplicated().sum()"
   ]
  },
  {
   "cell_type": "code",
   "execution_count": 129,
   "metadata": {},
   "outputs": [
    {
     "name": "stdout",
     "output_type": "stream",
     "text": [
      "Number of no-data values in each column:\n",
      " 14520 \n",
      "\n",
      "Number of duplicate values in each column: 401\n"
     ]
    }
   ],
   "source": [
    "######### This is a test-cell that print the number of null and duplicate rows #########\n",
    "\n",
    "print(f'Number of no-data values in each column:\\n {nodata_count} \\n')\n",
    "print(f'Number of duplicate values in each column: {duplicate_count}')"
   ]
  },
  {
   "cell_type": "markdown",
   "metadata": {},
   "source": [
    "### Step 2: \n",
    "To clean the data, we need to eliminate any rows containing null values and also remove any duplicate rows.\n",
    "\n",
    "- Write code to remove all null values\n",
    "- Write code to remove all duplicate rows in the dataframe."
   ]
  },
  {
   "cell_type": "code",
   "execution_count": 130,
   "metadata": {},
   "outputs": [
    {
     "data": {
      "text/plain": [
       "'\\ntest data.isnull().sum()\\ntest = data.duplicated().sum()\\nprint(test)\\n'"
      ]
     },
     "execution_count": 130,
     "metadata": {},
     "output_type": "execute_result"
    }
   ],
   "source": [
    "\n",
    "\n",
    "\n",
    "\n",
    "# YOUR CODE HERE\n",
    "data = data.dropna().drop_duplicates()\n",
    "\n",
    "\n",
    "'''\n",
    "test data.isnull().sum()\n",
    "test = data.duplicated().sum()\n",
    "print(test)\n",
    "'''"
   ]
  },
  {
   "cell_type": "markdown",
   "metadata": {},
   "source": [
    "### Step 3:\n",
    "\n",
    "Next step is to remove unnecessary information.\n",
    "\n",
    "Some information in the data might be extra for our current analysis including  `seller_zip_code_prefix` and  `seller_city`.\n",
    "\n",
    "- Identify and remove mentioned columns from the dataframe\n"
   ]
  },
  {
   "cell_type": "code",
   "execution_count": 131,
   "metadata": {},
   "outputs": [],
   "source": [
    "\n",
    "\n",
    "\n",
    "# YOUR CODE HERE\n",
    "data = data.drop(columns=['seller_zip_code_prefix','seller_city'])\n",
    "\n",
    "\n"
   ]
  },
  {
   "cell_type": "markdown",
   "metadata": {},
   "source": [
    "For the purpose of this analysis, we just need to only work with orders that have been in fact, delivered.\n",
    "Using the column `order_status` you can check the status of orders.\n",
    "\n",
    "- You should filter the dataframe to keep the rows with \"delivered\" status\n"
   ]
  },
  {
   "cell_type": "code",
   "execution_count": 132,
   "metadata": {},
   "outputs": [],
   "source": [
    "\n",
    "\n",
    "\n",
    "# YOUR CODE HERE\n",
    "data = data[data['order_status'].isin(['delivered'])]"
   ]
  },
  {
   "cell_type": "code",
   "execution_count": 133,
   "metadata": {},
   "outputs": [
    {
     "name": "stdout",
     "output_type": "stream",
     "text": [
      "order_status\n",
      "delivered    107777\n",
      "Name: count, dtype: int64\n"
     ]
    }
   ],
   "source": [
    "######### This is a test-cell that shows the descriptive statistics of the data #########\n",
    "print(data['order_status'].value_counts())"
   ]
  },
  {
   "cell_type": "markdown",
   "metadata": {},
   "source": [
    "### Step 4:\n",
    "We need to ensure that the location information we have about customers (customer_latitude and customer_longitude) falls within the geographical boundaries of Brazil. To achieve this, we must filter out latitude values that are not within the northern and southern bounds of Brazil, and similarly, remove longitude values that are outside the western and eastern bounds of Brazil.\n",
    "\n",
    "- Write code to filter the location data, ensuring it falls within the geographical boundaries of Brazil."
   ]
  },
  {
   "cell_type": "code",
   "execution_count": 134,
   "metadata": {},
   "outputs": [],
   "source": [
    "# Brazils most Northern spot is at 5.27438888 latitude;\n",
    "# Brazils most Southern spot is at -33.75083333 latitude;\n",
    "# Brazils most Eastern spot is at -34.79314722 longitude;\n",
    "# Brazils most Western spot is at -73.98555556 longitude;  \n",
    "\n",
    "\n",
    "\n",
    "\n",
    "# YOUR CODE HERE\n",
    "import numpy as np \n",
    "\n",
    "locationconditions = [(data['customer_latitude'] <= 5.27438888) & (data['customer_latitude'] >= -33.75083333) &\n",
    "                      (data['customer_longitude'] <= -34.79314722) & (data['customer_longitude'] >= -73.98555556), (data['customer_latitude'] > 5.27438888) & (data['customer_latitude'] < -33.75083333) &\n",
    "                      (data['customer_longitude'] > -34.79314722) & (data['customer_longitude'] < -73.98555556)]\n",
    "locationvals = ['True', 'False']\n",
    "\n",
    "data['Test'] = np.select(locationconditions,locationvals)\n",
    "data = data[data['Test'].isin(['True'])]\n",
    "data = data.drop(columns=['Test'])"
   ]
  },
  {
   "cell_type": "markdown",
   "metadata": {},
   "source": [
    "### Step 5:\n",
    "The dataset contains four columns with date and time information. By default, pandas considers them as text strings. \n",
    "Your objective is to write a code that converts the columns `order_purchase_timestamp`, `order_delivered_carrier_date`, `order_delivered_customer_date`, and `order_estimated_delivery_date` to the datetime format in pandas.\n",
    "\n",
    "Steps:\n",
    "\n",
    "- Write code to convert these columns to the datetime format using the `pd.to_datetime` function.\n",
    "- Update the original dataframe with the newly formatted date and time columns.\n"
   ]
  },
  {
   "cell_type": "code",
   "execution_count": 135,
   "metadata": {},
   "outputs": [],
   "source": [
    "\n",
    "\n",
    "# YOUR CODE HERE\n",
    "\n",
    "data['order_purchase_timestamp'] = pd.to_datetime(data['order_purchase_timestamp'])\n",
    "data['order_delivered_carrier_date'] = pd.to_datetime(data['order_delivered_carrier_date'])\n",
    "data['order_delivered_customer_date'] = pd.to_datetime(data['order_delivered_customer_date'])\n",
    "data['order_estimated_delivery_date'] = pd.to_datetime(data['order_estimated_delivery_date'])\n"
   ]
  },
  {
   "cell_type": "code",
   "execution_count": 136,
   "metadata": {},
   "outputs": [
    {
     "data": {
      "text/plain": [
       "order_id                                 object\n",
       "order_status                             object\n",
       "order_purchase_timestamp         datetime64[ns]\n",
       "order_delivered_carrier_date     datetime64[ns]\n",
       "order_delivered_customer_date    datetime64[ns]\n",
       "order_estimated_delivery_date    datetime64[ns]\n",
       "customer_unique_id                       object\n",
       "customer_zip_code_prefix                  int64\n",
       "order_item_id                           float64\n",
       "product_id                               object\n",
       "price                                   float64\n",
       "freight_value                           float64\n",
       "product_category_name_english            object\n",
       "review_score                            float64\n",
       "customer_latitude                       float64\n",
       "customer_longitude                      float64\n",
       "customer_city                            object\n",
       "customer_state                           object\n",
       "dtype: object"
      ]
     },
     "execution_count": 136,
     "metadata": {},
     "output_type": "execute_result"
    }
   ],
   "source": [
    "######### This is a test-cell to show the  data types of the columns #########\n",
    "\n",
    "data.dtypes"
   ]
  },
  {
   "cell_type": "code",
   "execution_count": 137,
   "metadata": {},
   "outputs": [
    {
     "data": {
      "text/html": [
       "<div>\n",
       "<style scoped>\n",
       "    .dataframe tbody tr th:only-of-type {\n",
       "        vertical-align: middle;\n",
       "    }\n",
       "\n",
       "    .dataframe tbody tr th {\n",
       "        vertical-align: top;\n",
       "    }\n",
       "\n",
       "    .dataframe thead th {\n",
       "        text-align: right;\n",
       "    }\n",
       "</style>\n",
       "<table border=\"1\" class=\"dataframe\">\n",
       "  <thead>\n",
       "    <tr style=\"text-align: right;\">\n",
       "      <th></th>\n",
       "      <th>order_purchase_timestamp</th>\n",
       "      <th>order_delivered_carrier_date</th>\n",
       "      <th>order_delivered_customer_date</th>\n",
       "      <th>order_estimated_delivery_date</th>\n",
       "      <th>customer_zip_code_prefix</th>\n",
       "      <th>order_item_id</th>\n",
       "      <th>price</th>\n",
       "      <th>freight_value</th>\n",
       "      <th>review_score</th>\n",
       "      <th>customer_latitude</th>\n",
       "      <th>customer_longitude</th>\n",
       "    </tr>\n",
       "  </thead>\n",
       "  <tbody>\n",
       "    <tr>\n",
       "      <th>count</th>\n",
       "      <td>107760</td>\n",
       "      <td>107760</td>\n",
       "      <td>107760</td>\n",
       "      <td>107760</td>\n",
       "      <td>107760.000000</td>\n",
       "      <td>107760.000000</td>\n",
       "      <td>107760.000000</td>\n",
       "      <td>107760.000000</td>\n",
       "      <td>107760.000000</td>\n",
       "      <td>107760.000000</td>\n",
       "      <td>107760.000000</td>\n",
       "    </tr>\n",
       "    <tr>\n",
       "      <th>mean</th>\n",
       "      <td>2018-01-02 19:43:29.247624448</td>\n",
       "      <td>2018-01-06 02:18:00.615182080</td>\n",
       "      <td>2018-01-15 05:48:28.171622144</td>\n",
       "      <td>2018-01-26 14:55:45.835188992</td>\n",
       "      <td>35071.650715</td>\n",
       "      <td>1.196733</td>\n",
       "      <td>119.872417</td>\n",
       "      <td>19.966552</td>\n",
       "      <td>4.082201</td>\n",
       "      <td>-21.255721</td>\n",
       "      <td>-46.221311</td>\n",
       "    </tr>\n",
       "    <tr>\n",
       "      <th>min</th>\n",
       "      <td>2016-09-15 12:16:38</td>\n",
       "      <td>2016-10-08 10:34:01</td>\n",
       "      <td>2016-10-11 13:46:32</td>\n",
       "      <td>2016-10-04 00:00:00</td>\n",
       "      <td>1003.000000</td>\n",
       "      <td>1.000000</td>\n",
       "      <td>0.850000</td>\n",
       "      <td>0.000000</td>\n",
       "      <td>1.000000</td>\n",
       "      <td>-33.691423</td>\n",
       "      <td>-72.666706</td>\n",
       "    </tr>\n",
       "    <tr>\n",
       "      <th>25%</th>\n",
       "      <td>2017-09-15 21:36:24</td>\n",
       "      <td>2017-09-19 17:03:41</td>\n",
       "      <td>2017-09-27 17:31:54.750000128</td>\n",
       "      <td>2017-10-06 00:00:00</td>\n",
       "      <td>11095.000000</td>\n",
       "      <td>1.000000</td>\n",
       "      <td>39.900000</td>\n",
       "      <td>13.080000</td>\n",
       "      <td>4.000000</td>\n",
       "      <td>-23.591813</td>\n",
       "      <td>-48.123571</td>\n",
       "    </tr>\n",
       "    <tr>\n",
       "      <th>50%</th>\n",
       "      <td>2018-01-22 11:41:56</td>\n",
       "      <td>2018-01-25 14:55:40.500000</td>\n",
       "      <td>2018-02-05 12:38:49.500000</td>\n",
       "      <td>2018-02-19 00:00:00</td>\n",
       "      <td>24240.000000</td>\n",
       "      <td>1.000000</td>\n",
       "      <td>74.900000</td>\n",
       "      <td>16.280000</td>\n",
       "      <td>5.000000</td>\n",
       "      <td>-22.931256</td>\n",
       "      <td>-46.634876</td>\n",
       "    </tr>\n",
       "    <tr>\n",
       "      <th>75%</th>\n",
       "      <td>2018-05-06 18:38:05</td>\n",
       "      <td>2018-05-09 10:13:00</td>\n",
       "      <td>2018-05-16 15:41:33.500000</td>\n",
       "      <td>2018-05-28 00:00:00</td>\n",
       "      <td>58751.250000</td>\n",
       "      <td>1.000000</td>\n",
       "      <td>134.490000</td>\n",
       "      <td>21.150000</td>\n",
       "      <td>5.000000</td>\n",
       "      <td>-20.199173</td>\n",
       "      <td>-43.680795</td>\n",
       "    </tr>\n",
       "    <tr>\n",
       "      <th>max</th>\n",
       "      <td>2018-08-29 15:00:37</td>\n",
       "      <td>2018-09-11 19:48:28</td>\n",
       "      <td>2018-10-17 13:22:46</td>\n",
       "      <td>2018-10-25 00:00:00</td>\n",
       "      <td>99980.000000</td>\n",
       "      <td>21.000000</td>\n",
       "      <td>6735.000000</td>\n",
       "      <td>409.680000</td>\n",
       "      <td>5.000000</td>\n",
       "      <td>3.844901</td>\n",
       "      <td>-34.800340</td>\n",
       "    </tr>\n",
       "    <tr>\n",
       "      <th>std</th>\n",
       "      <td>NaN</td>\n",
       "      <td>NaN</td>\n",
       "      <td>NaN</td>\n",
       "      <td>NaN</td>\n",
       "      <td>29892.972621</td>\n",
       "      <td>0.693255</td>\n",
       "      <td>180.704635</td>\n",
       "      <td>15.715654</td>\n",
       "      <td>1.345970</td>\n",
       "      <td>5.544004</td>\n",
       "      <td>4.029494</td>\n",
       "    </tr>\n",
       "  </tbody>\n",
       "</table>\n",
       "</div>"
      ],
      "text/plain": [
       "            order_purchase_timestamp   order_delivered_carrier_date  \\\n",
       "count                         107760                         107760   \n",
       "mean   2018-01-02 19:43:29.247624448  2018-01-06 02:18:00.615182080   \n",
       "min              2016-09-15 12:16:38            2016-10-08 10:34:01   \n",
       "25%              2017-09-15 21:36:24            2017-09-19 17:03:41   \n",
       "50%              2018-01-22 11:41:56     2018-01-25 14:55:40.500000   \n",
       "75%              2018-05-06 18:38:05            2018-05-09 10:13:00   \n",
       "max              2018-08-29 15:00:37            2018-09-11 19:48:28   \n",
       "std                              NaN                            NaN   \n",
       "\n",
       "       order_delivered_customer_date  order_estimated_delivery_date  \\\n",
       "count                         107760                         107760   \n",
       "mean   2018-01-15 05:48:28.171622144  2018-01-26 14:55:45.835188992   \n",
       "min              2016-10-11 13:46:32            2016-10-04 00:00:00   \n",
       "25%    2017-09-27 17:31:54.750000128            2017-10-06 00:00:00   \n",
       "50%       2018-02-05 12:38:49.500000            2018-02-19 00:00:00   \n",
       "75%       2018-05-16 15:41:33.500000            2018-05-28 00:00:00   \n",
       "max              2018-10-17 13:22:46            2018-10-25 00:00:00   \n",
       "std                              NaN                            NaN   \n",
       "\n",
       "       customer_zip_code_prefix  order_item_id          price  freight_value  \\\n",
       "count             107760.000000  107760.000000  107760.000000  107760.000000   \n",
       "mean               35071.650715       1.196733     119.872417      19.966552   \n",
       "min                 1003.000000       1.000000       0.850000       0.000000   \n",
       "25%                11095.000000       1.000000      39.900000      13.080000   \n",
       "50%                24240.000000       1.000000      74.900000      16.280000   \n",
       "75%                58751.250000       1.000000     134.490000      21.150000   \n",
       "max                99980.000000      21.000000    6735.000000     409.680000   \n",
       "std                29892.972621       0.693255     180.704635      15.715654   \n",
       "\n",
       "        review_score  customer_latitude  customer_longitude  \n",
       "count  107760.000000      107760.000000       107760.000000  \n",
       "mean        4.082201         -21.255721          -46.221311  \n",
       "min         1.000000         -33.691423          -72.666706  \n",
       "25%         4.000000         -23.591813          -48.123571  \n",
       "50%         5.000000         -22.931256          -46.634876  \n",
       "75%         5.000000         -20.199173          -43.680795  \n",
       "max         5.000000           3.844901          -34.800340  \n",
       "std         1.345970           5.544004            4.029494  "
      ]
     },
     "execution_count": 137,
     "metadata": {},
     "output_type": "execute_result"
    }
   ],
   "source": [
    "######### This is a test-cell that shows the descriptive statistics of the data #########\n",
    "\n",
    "data.describe()"
   ]
  },
  {
   "cell_type": "markdown",
   "metadata": {},
   "source": [
    "## Part 3 (Data Exploratory Analysis)"
   ]
  },
  {
   "cell_type": "markdown",
   "metadata": {},
   "source": [
    "### Step 1: What is the Total Revenue Per Day?\n",
    "\n",
    "\n",
    "To determine the total revenue for each day, you can follow these steps:\n",
    "\n",
    "1. Use `order_purchase_timestamp` column, convert it to 1 day period and store it in new column (e.g. you can name it `day`).\n",
    "2. Use `day` and pandas `pd.groupby()` functionality to group data based on the column `day`\n",
    "3. Use pandas functionality `.agg()` to aggregate the members in each group calculate the sum of `price` while aggregating.\n",
    "4. Ensure that the results include the relevant time frame from September 2016 to August 2018."
   ]
  },
  {
   "cell_type": "code",
   "execution_count": 138,
   "metadata": {},
   "outputs": [],
   "source": [
    "\n",
    "\n",
    "\n",
    "# YOUR CODE HERE\n",
    "data['Day'] = data['order_purchase_timestamp'].dt.day_name()\n",
    "\n",
    "data2 = data.groupby(data['Day'])\n",
    "data2 = data2.agg({'price':['sum']})\n",
    "DayofWeek = [ 'Monday', 'Tuesday', 'Wednesday', 'Thursday', 'Friday', 'Saturday', 'Sunday']\n",
    "data2 = data2.groupby(['Day']).sum().reindex(DayofWeek) \n",
    "\n"
   ]
  },
  {
   "cell_type": "markdown",
   "metadata": {},
   "source": [
    "Next, after determining the total revenue for each day, you can proceed to visualize the results using a **line chart**. \n",
    "Follow these steps:\n",
    "\n",
    "- You can use matplotlib (or any other libraries such as seaborn, etc) to plot the **line chart**.\n",
    "- Use `day` in x-axis and aggregated price as y-axis of the chart.\n",
    "- Label the x-axis with the corresponding days.\n",
    "- Enhance the chart with appropriate titles and labels for clarity.\n"
   ]
  },
  {
   "cell_type": "code",
   "execution_count": 139,
   "metadata": {},
   "outputs": [
    {
     "name": "stderr",
     "output_type": "stream",
     "text": [
      "c:\\Users\\zackd\\miniconda3\\Lib\\site-packages\\seaborn\\_oldcore.py:1119: FutureWarning: use_inf_as_na option is deprecated and will be removed in a future version. Convert inf values to NaN before operating instead.\n",
      "  with pd.option_context('mode.use_inf_as_na', True):\n",
      "c:\\Users\\zackd\\miniconda3\\Lib\\site-packages\\seaborn\\_oldcore.py:1119: FutureWarning: use_inf_as_na option is deprecated and will be removed in a future version. Convert inf values to NaN before operating instead.\n",
      "  with pd.option_context('mode.use_inf_as_na', True):\n"
     ]
    },
    {
     "data": {
      "image/png": "[encoded data removed]",
      "text/plain": [
       "<Figure size 1200x600 with 1 Axes>"
      ]
     },
     "metadata": {},
     "output_type": "display_data"
    }
   ],
   "source": [
    "# Import the necessary packages\n",
    "import matplotlib.pyplot as plt\n",
    "import seaborn as sns         # optionally you can use seaborn style\n",
    "\n",
    "plt.figure(figsize=(12, 6))\n",
    "plt.xlabel(\"Day of the Week\")\n",
    "plt.ylabel(\"Package Price (x10^6)\")\n",
    "plt.title(\"Total Revenue Per Day\")\n",
    "\n",
    "# YOUR CODE HERE\n",
    "sns.lineplot(data=data2)\n",
    "\n",
    "\n",
    "plt.show()"
   ]
  },
  {
   "cell_type": "markdown",
   "metadata": {},
   "source": [
    "The matplotlib line chart plot should produce something like following:\n",
    "\n",
    "![Bar chart](img/line_chart.png)"
   ]
  },
  {
   "cell_type": "markdown",
   "metadata": {},
   "source": [
    "### Question 1:\n",
    "\n",
    "1. Dive into the line chart and tell us in few sentences what you discover about the daily revenue trends during the specific time period. Can you find any general tren during the perios? Take a deeper look at the spike indicated in the provided example and try to suggest why that happened. \n",
    "\n",
    "*Hint : (You can take a look at calendar for 2017 and see what you can find!)*"
   ]
  },
  {
   "cell_type": "markdown",
   "metadata": {},
   "source": [
    "\n",
    "YOUR ANSWER HERE\n"
   ]
  },
  {
   "cell_type": "markdown",
   "metadata": {},
   "source": [
    "### Step 2: What's the Distribution of Customer Reviews?\n",
    "\n",
    "The next step involves calculating customer review rates and visualizing the distribution using a pie chart. This give insight about overal satisfaction of customers of this online store.\n",
    "\n",
    "Follow these steps:\n",
    "\n",
    "\n",
    "1. Write a code to group the data by review rate, considering a scale from 1 to 5.\n",
    "2. Utilize the calculated distribution to create a pie chart, where each slice represents the percentage of reviews.\n",
    "3. Label each segment of the pie chart with the corresponding review rate (1, 2, 3, 4, 5).\n",
    "4. Enhance the chart with appropriate titles and labels for clarity.\n",
    "\n",
    "\n"
   ]
  },
  {
   "cell_type": "code",
   "execution_count": 140,
   "metadata": {},
   "outputs": [
    {
     "data": {
      "image/png": "[encoded data removed]",
      "text/plain": [
       "<Figure size 1200x600 with 1 Axes>"
      ]
     },
     "metadata": {},
     "output_type": "display_data"
    }
   ],
   "source": [
    "# Import the necessary packages\n",
    "import matplotlib.pyplot as plt\n",
    "import seaborn as sns         # optionally you can use seaborn style\n",
    "\n",
    "plt.figure(figsize=(12, 6))\n",
    "\n",
    "\n",
    "\n",
    "# YOUR CODE HERE\n",
    "data3 = data.groupby(data['review_score'])\n",
    "legend = ['1 Star', '2 Star', '3 Star', '4 Star', '5 Star'  ]\n",
    "plt.pie(data3['review_score'].sum(), autopct='%1.1f%%', labels=legend)\n",
    "plt.title(\"Distribution of Customer Reviews\")\n",
    "\n",
    "plt.show()"
   ]
  },
  {
   "cell_type": "markdown",
   "metadata": {},
   "source": [
    "### Question 2:\n",
    "\n",
    "2. By taking a close look at the pie chart, what can you tell us about the percentage distribution of reviews among the customers? Explain your findings in few sentences."
   ]
  },
  {
   "cell_type": "markdown",
   "metadata": {},
   "source": [
    "YOUR ANSWER HERE"
   ]
  },
  {
   "cell_type": "markdown",
   "metadata": {},
   "source": [
    "### Step 3: What Are Customers Buying?\n",
    "\n",
    "To identify the top 10 most purchased product categories, and subsequently plot a bar chart, follow these steps:\n",
    "\n",
    "1. Write a code to group the data by the 'product_category_name_english' field.\n",
    "2. Calculate the total count each product category.\n",
    "3. Sort the product categories based on the calculated count in descending order.\n",
    "4. Select the top 10 product categories with the highest quantity.\n",
    "5. Utilize the selected data to create a bar chart, where each bar represents a product category and the height represents the quantity.\n",
    "6. Label each bar with the corresponding product category name.\n",
    "7. Enhance the chart with appropriate titles and labels for clarity.\n"
   ]
  },
  {
   "cell_type": "code",
   "execution_count": 141,
   "metadata": {},
   "outputs": [
    {
     "data": {
      "text/plain": [
       "product_category_name_english\n",
       "bed_bath_table           10871\n",
       "health_beauty             9383\n",
       "sports_leisure            8373\n",
       "furniture_decor           8104\n",
       "computers_accessories     7612\n",
       "housewares                6754\n",
       "watches_gifts             5797\n",
       "telephony                 4390\n",
       "garden_tools              4237\n",
       "auto                      4091\n",
       "Name: count, dtype: int64"
      ]
     },
     "execution_count": 141,
     "metadata": {},
     "output_type": "execute_result"
    },
    {
     "data": {
      "text/plain": [
       "<Figure size 1200x600 with 0 Axes>"
      ]
     },
     "metadata": {},
     "output_type": "display_data"
    }
   ],
   "source": [
    "# Import the necessary packages\n",
    "import matplotlib.pyplot as plt\n",
    "# import seaborn as sns         # optionally you can use seaborn style\n",
    "\n",
    "plt.figure(figsize=(12, 6))\n",
    "\n",
    "\n",
    "\n",
    "# YOUR CODE HERE\n",
    "data4 = data.groupby(data['product_category_name_english'])\n",
    "data4 = data4['product_category_name_english'].value_counts()\n",
    "data4 = data4.sort_values(ascending=False)\n",
    "data5 = data4.head(10)\n",
    "data5.head(10)\n",
    "#sns.barplot(data5)\n",
    "#plt.show()"
   ]
  },
  {
   "cell_type": "markdown",
   "metadata": {},
   "source": [
    "The matplotlib bar chart plot should produce something like following:\n",
    "\n",
    "![Bar chart](img/top10_products.png)"
   ]
  },
  {
   "cell_type": "markdown",
   "metadata": {},
   "source": [
    "### Step 4: How Variable Are the Delivery Times for Each Product Category?\n",
    "\n",
    "Use Box plot to vizualize boxplots for delivery time based on each product category type:\n",
    "\n",
    "1. Calculate the delivery time by subtracting 'order_delivered_carrier_date' from 'order_delivered_customer_date'. Convert the result to days.\n",
    "2. Create a new column in your dataset to store the calculated delivery time.\n",
    "3. Create a new dataframe by grouping data by 'product_category_name_english' column and aggregate the group by averaging delivery time {\"delivery_time_days\": \"mean\"}\n",
    "\n"
   ]
  },
  {
   "cell_type": "code",
   "execution_count": 143,
   "metadata": {},
   "outputs": [
    {
     "ename": "TypeError",
     "evalue": "unhashable type: 'Series'",
     "output_type": "error",
     "traceback": [
      "\u001b[1;31m---------------------------------------------------------------------------\u001b[0m",
      "\u001b[1;31mTypeError\u001b[0m                                 Traceback (most recent call last)",
      "\u001b[1;32m~\\AppData\\Local\\Temp\\ipykernel_5316\\731693185.py\u001b[0m in \u001b[0;36m?\u001b[1;34m()\u001b[0m\n\u001b[0;32m      3\u001b[0m \u001b[0mdata\u001b[0m\u001b[1;33m[\u001b[0m\u001b[1;34m'delivery_time'\u001b[0m\u001b[1;33m]\u001b[0m \u001b[1;33m=\u001b[0m \u001b[0mdata\u001b[0m\u001b[1;33m[\u001b[0m\u001b[1;34m'order_delivered_carrier_date'\u001b[0m\u001b[1;33m]\u001b[0m \u001b[1;33m-\u001b[0m \u001b[0mdata\u001b[0m\u001b[1;33m[\u001b[0m\u001b[1;34m'order_delivered_customer_date'\u001b[0m\u001b[1;33m]\u001b[0m\u001b[1;33m\u001b[0m\u001b[1;33m\u001b[0m\u001b[0m\n\u001b[0;32m      4\u001b[0m \u001b[0mdata\u001b[0m\u001b[1;33m.\u001b[0m\u001b[0mdtypes\u001b[0m\u001b[1;33m\u001b[0m\u001b[1;33m\u001b[0m\u001b[0m\n\u001b[0;32m      5\u001b[0m \u001b[0mdata\u001b[0m\u001b[1;33m[\u001b[0m\u001b[1;34m'delivery_time_days'\u001b[0m\u001b[1;33m]\u001b[0m \u001b[1;33m=\u001b[0m \u001b[0mdata\u001b[0m\u001b[1;33m[\u001b[0m\u001b[1;34m'delivery_time'\u001b[0m\u001b[1;33m]\u001b[0m\u001b[1;33m.\u001b[0m\u001b[0mdt\u001b[0m\u001b[1;33m.\u001b[0m\u001b[0mdays\u001b[0m\u001b[1;33m\u001b[0m\u001b[1;33m\u001b[0m\u001b[0m\n\u001b[0;32m      6\u001b[0m \u001b[0mdata\u001b[0m\u001b[1;33m.\u001b[0m\u001b[0mdtypes\u001b[0m\u001b[1;33m\u001b[0m\u001b[1;33m\u001b[0m\u001b[0m\n\u001b[1;32m----> 7\u001b[1;33m \u001b[0mnewdf\u001b[0m \u001b[1;33m=\u001b[0m \u001b[0mdata\u001b[0m\u001b[1;33m.\u001b[0m\u001b[0mgroupby\u001b[0m\u001b[1;33m(\u001b[0m\u001b[0mdata\u001b[0m\u001b[1;33m[\u001b[0m\u001b[1;34m'product_category_name_english'\u001b[0m\u001b[1;33m]\u001b[0m\u001b[1;33m)\u001b[0m\u001b[1;33m.\u001b[0m\u001b[0magg\u001b[0m\u001b[1;33m(\u001b[0m\u001b[0mdata\u001b[0m\u001b[1;33m[\u001b[0m\u001b[1;34m'delivery_time_days'\u001b[0m\u001b[1;33m]\u001b[0m\u001b[1;33m.\u001b[0m\u001b[0mmean\u001b[0m\u001b[1;33m)\u001b[0m\u001b[1;33m\u001b[0m\u001b[1;33m\u001b[0m\u001b[0m\n\u001b[0m",
      "\u001b[1;32mc:\\Users\\zackd\\miniconda3\\Lib\\site-packages\\pandas\\core\\groupby\\generic.py\u001b[0m in \u001b[0;36m?\u001b[1;34m(self, func, engine, engine_kwargs, *args, **kwargs)\u001b[0m\n\u001b[0;32m   1493\u001b[0m                 \u001b[0mgba\u001b[0m \u001b[1;33m=\u001b[0m \u001b[0mGroupByApply\u001b[0m\u001b[1;33m(\u001b[0m\u001b[0mself\u001b[0m\u001b[1;33m,\u001b[0m \u001b[1;33m[\u001b[0m\u001b[0mfunc\u001b[0m\u001b[1;33m]\u001b[0m\u001b[1;33m,\u001b[0m \u001b[0margs\u001b[0m\u001b[1;33m=\u001b[0m\u001b[1;33m(\u001b[0m\u001b[1;33m)\u001b[0m\u001b[1;33m,\u001b[0m \u001b[0mkwargs\u001b[0m\u001b[1;33m=\u001b[0m\u001b[1;33m{\u001b[0m\u001b[1;33m}\u001b[0m\u001b[1;33m)\u001b[0m\u001b[1;33m\u001b[0m\u001b[1;33m\u001b[0m\u001b[0m\n\u001b[0;32m   1494\u001b[0m                 \u001b[1;32mtry\u001b[0m\u001b[1;33m:\u001b[0m\u001b[1;33m\u001b[0m\u001b[1;33m\u001b[0m\u001b[0m\n\u001b[0;32m   1495\u001b[0m                     \u001b[0mresult\u001b[0m \u001b[1;33m=\u001b[0m \u001b[0mgba\u001b[0m\u001b[1;33m.\u001b[0m\u001b[0magg\u001b[0m\u001b[1;33m(\u001b[0m\u001b[1;33m)\u001b[0m\u001b[1;33m\u001b[0m\u001b[1;33m\u001b[0m\u001b[0m\n\u001b[0;32m   1496\u001b[0m \u001b[1;33m\u001b[0m\u001b[0m\n\u001b[1;32m-> 1497\u001b[1;33m                 \u001b[1;32mexcept\u001b[0m \u001b[0mValueError\u001b[0m \u001b[1;32mas\u001b[0m \u001b[0merr\u001b[0m\u001b[1;33m:\u001b[0m\u001b[1;33m\u001b[0m\u001b[1;33m\u001b[0m\u001b[0m\n\u001b[0m\u001b[0;32m   1498\u001b[0m                     \u001b[1;32mif\u001b[0m \u001b[1;34m\"No objects to concatenate\"\u001b[0m \u001b[1;32mnot\u001b[0m \u001b[1;32min\u001b[0m \u001b[0mstr\u001b[0m\u001b[1;33m(\u001b[0m\u001b[0merr\u001b[0m\u001b[1;33m)\u001b[0m\u001b[1;33m:\u001b[0m\u001b[1;33m\u001b[0m\u001b[1;33m\u001b[0m\u001b[0m\n\u001b[0;32m   1499\u001b[0m                         \u001b[1;32mraise\u001b[0m\u001b[1;33m\u001b[0m\u001b[1;33m\u001b[0m\u001b[0m\n\u001b[0;32m   1500\u001b[0m                     \u001b[1;31m# _aggregate_frame can fail with e.g. func=Series.mode,\u001b[0m\u001b[1;33m\u001b[0m\u001b[1;33m\u001b[0m\u001b[0m\n",
      "\u001b[1;32mc:\\Users\\zackd\\miniconda3\\Lib\\site-packages\\pandas\\core\\apply.py\u001b[0m in \u001b[0;36m?\u001b[1;34m(self)\u001b[0m\n\u001b[0;32m    174\u001b[0m         \u001b[1;32mif\u001b[0m \u001b[0mis_dict_like\u001b[0m\u001b[1;33m(\u001b[0m\u001b[0mfunc\u001b[0m\u001b[1;33m)\u001b[0m\u001b[1;33m:\u001b[0m\u001b[1;33m\u001b[0m\u001b[1;33m\u001b[0m\u001b[0m\n\u001b[0;32m    175\u001b[0m             \u001b[1;32mreturn\u001b[0m \u001b[0mself\u001b[0m\u001b[1;33m.\u001b[0m\u001b[0magg_dict_like\u001b[0m\u001b[1;33m(\u001b[0m\u001b[1;33m)\u001b[0m\u001b[1;33m\u001b[0m\u001b[1;33m\u001b[0m\u001b[0m\n\u001b[0;32m    176\u001b[0m         \u001b[1;32melif\u001b[0m \u001b[0mis_list_like\u001b[0m\u001b[1;33m(\u001b[0m\u001b[0mfunc\u001b[0m\u001b[1;33m)\u001b[0m\u001b[1;33m:\u001b[0m\u001b[1;33m\u001b[0m\u001b[1;33m\u001b[0m\u001b[0m\n\u001b[0;32m    177\u001b[0m             \u001b[1;31m# we require a list, but not a 'str'\u001b[0m\u001b[1;33m\u001b[0m\u001b[1;33m\u001b[0m\u001b[0m\n\u001b[1;32m--> 178\u001b[1;33m             \u001b[1;32mreturn\u001b[0m \u001b[0mself\u001b[0m\u001b[1;33m.\u001b[0m\u001b[0magg_list_like\u001b[0m\u001b[1;33m(\u001b[0m\u001b[1;33m)\u001b[0m\u001b[1;33m\u001b[0m\u001b[1;33m\u001b[0m\u001b[0m\n\u001b[0m\u001b[0;32m    179\u001b[0m \u001b[1;33m\u001b[0m\u001b[0m\n\u001b[0;32m    180\u001b[0m         \u001b[1;32mif\u001b[0m \u001b[0mcallable\u001b[0m\u001b[1;33m(\u001b[0m\u001b[0mfunc\u001b[0m\u001b[1;33m)\u001b[0m\u001b[1;33m:\u001b[0m\u001b[1;33m\u001b[0m\u001b[1;33m\u001b[0m\u001b[0m\n\u001b[0;32m    181\u001b[0m             \u001b[0mf\u001b[0m \u001b[1;33m=\u001b[0m \u001b[0mcom\u001b[0m\u001b[1;33m.\u001b[0m\u001b[0mget_cython_func\u001b[0m\u001b[1;33m(\u001b[0m\u001b[0mfunc\u001b[0m\u001b[1;33m)\u001b[0m\u001b[1;33m\u001b[0m\u001b[1;33m\u001b[0m\u001b[0m\n",
      "\u001b[1;32mc:\\Users\\zackd\\miniconda3\\Lib\\site-packages\\pandas\\core\\apply.py\u001b[0m in \u001b[0;36m?\u001b[1;34m(self)\u001b[0m\n\u001b[0;32m    307\u001b[0m         \u001b[0mReturns\u001b[0m\u001b[1;33m\u001b[0m\u001b[1;33m\u001b[0m\u001b[0m\n\u001b[0;32m    308\u001b[0m         \u001b[1;33m-\u001b[0m\u001b[1;33m-\u001b[0m\u001b[1;33m-\u001b[0m\u001b[1;33m-\u001b[0m\u001b[1;33m-\u001b[0m\u001b[1;33m-\u001b[0m\u001b[1;33m-\u001b[0m\u001b[1;33m\u001b[0m\u001b[1;33m\u001b[0m\u001b[0m\n\u001b[0;32m    309\u001b[0m         \u001b[0mResult\u001b[0m \u001b[0mof\u001b[0m \u001b[0maggregation\u001b[0m\u001b[1;33m.\u001b[0m\u001b[1;33m\u001b[0m\u001b[1;33m\u001b[0m\u001b[0m\n\u001b[0;32m    310\u001b[0m         \"\"\"\n\u001b[1;32m--> 311\u001b[1;33m         \u001b[1;32mreturn\u001b[0m \u001b[0mself\u001b[0m\u001b[1;33m.\u001b[0m\u001b[0magg_or_apply_list_like\u001b[0m\u001b[1;33m(\u001b[0m\u001b[0mop_name\u001b[0m\u001b[1;33m=\u001b[0m\u001b[1;34m\"agg\"\u001b[0m\u001b[1;33m)\u001b[0m\u001b[1;33m\u001b[0m\u001b[1;33m\u001b[0m\u001b[0m\n\u001b[0m",
      "\u001b[1;32mc:\\Users\\zackd\\miniconda3\\Lib\\site-packages\\pandas\\core\\apply.py\u001b[0m in \u001b[0;36m?\u001b[1;34m(self, op_name)\u001b[0m\n\u001b[0;32m   1349\u001b[0m         \u001b[1;31m# that inherit from this class.\u001b[0m\u001b[1;33m\u001b[0m\u001b[1;33m\u001b[0m\u001b[0m\n\u001b[0;32m   1350\u001b[0m         with com.temp_setattr(\n\u001b[0;32m   1351\u001b[0m             \u001b[0mobj\u001b[0m\u001b[1;33m,\u001b[0m \u001b[1;34m\"as_index\"\u001b[0m\u001b[1;33m,\u001b[0m \u001b[1;32mTrue\u001b[0m\u001b[1;33m,\u001b[0m \u001b[0mcondition\u001b[0m\u001b[1;33m=\u001b[0m\u001b[0mhasattr\u001b[0m\u001b[1;33m(\u001b[0m\u001b[0mobj\u001b[0m\u001b[1;33m,\u001b[0m \u001b[1;34m\"as_index\"\u001b[0m\u001b[1;33m)\u001b[0m\u001b[1;33m\u001b[0m\u001b[1;33m\u001b[0m\u001b[0m\n\u001b[0;32m   1352\u001b[0m         ):\n\u001b[1;32m-> 1353\u001b[1;33m             \u001b[0mkeys\u001b[0m\u001b[1;33m,\u001b[0m \u001b[0mresults\u001b[0m \u001b[1;33m=\u001b[0m \u001b[0mself\u001b[0m\u001b[1;33m.\u001b[0m\u001b[0mcompute_list_like\u001b[0m\u001b[1;33m(\u001b[0m\u001b[0mop_name\u001b[0m\u001b[1;33m,\u001b[0m \u001b[0mselected_obj\u001b[0m\u001b[1;33m,\u001b[0m \u001b[0mkwargs\u001b[0m\u001b[1;33m)\u001b[0m\u001b[1;33m\u001b[0m\u001b[1;33m\u001b[0m\u001b[0m\n\u001b[0m\u001b[0;32m   1354\u001b[0m         \u001b[0mresult\u001b[0m \u001b[1;33m=\u001b[0m \u001b[0mself\u001b[0m\u001b[1;33m.\u001b[0m\u001b[0mwrap_results_list_like\u001b[0m\u001b[1;33m(\u001b[0m\u001b[0mkeys\u001b[0m\u001b[1;33m,\u001b[0m \u001b[0mresults\u001b[0m\u001b[1;33m)\u001b[0m\u001b[1;33m\u001b[0m\u001b[1;33m\u001b[0m\u001b[0m\n\u001b[0;32m   1355\u001b[0m         \u001b[1;32mreturn\u001b[0m \u001b[0mresult\u001b[0m\u001b[1;33m\u001b[0m\u001b[1;33m\u001b[0m\u001b[0m\n",
      "\u001b[1;32mc:\\Users\\zackd\\miniconda3\\Lib\\site-packages\\pandas\\core\\apply.py\u001b[0m in \u001b[0;36m?\u001b[1;34m(self, op_name, selected_obj, kwargs)\u001b[0m\n\u001b[0;32m    366\u001b[0m                     \u001b[1;33m[\u001b[0m\u001b[0mself\u001b[0m\u001b[1;33m.\u001b[0m\u001b[0maxis\u001b[0m\u001b[1;33m,\u001b[0m \u001b[1;33m*\u001b[0m\u001b[0mself\u001b[0m\u001b[1;33m.\u001b[0m\u001b[0margs\u001b[0m\u001b[1;33m]\u001b[0m\u001b[1;33m\u001b[0m\u001b[1;33m\u001b[0m\u001b[0m\n\u001b[0;32m    367\u001b[0m                     \u001b[1;32mif\u001b[0m \u001b[0minclude_axis\u001b[0m\u001b[1;33m(\u001b[0m\u001b[0mop_name\u001b[0m\u001b[1;33m,\u001b[0m \u001b[0mcolg\u001b[0m\u001b[1;33m)\u001b[0m\u001b[1;33m\u001b[0m\u001b[1;33m\u001b[0m\u001b[0m\n\u001b[0;32m    368\u001b[0m                     \u001b[1;32melse\u001b[0m \u001b[0mself\u001b[0m\u001b[1;33m.\u001b[0m\u001b[0margs\u001b[0m\u001b[1;33m\u001b[0m\u001b[1;33m\u001b[0m\u001b[0m\n\u001b[0;32m    369\u001b[0m                 )\n\u001b[1;32m--> 370\u001b[1;33m                 \u001b[0mnew_res\u001b[0m \u001b[1;33m=\u001b[0m \u001b[0mgetattr\u001b[0m\u001b[1;33m(\u001b[0m\u001b[0mcolg\u001b[0m\u001b[1;33m,\u001b[0m \u001b[0mop_name\u001b[0m\u001b[1;33m)\u001b[0m\u001b[1;33m(\u001b[0m\u001b[0mfunc\u001b[0m\u001b[1;33m,\u001b[0m \u001b[1;33m*\u001b[0m\u001b[0margs\u001b[0m\u001b[1;33m,\u001b[0m \u001b[1;33m**\u001b[0m\u001b[0mkwargs\u001b[0m\u001b[1;33m)\u001b[0m\u001b[1;33m\u001b[0m\u001b[1;33m\u001b[0m\u001b[0m\n\u001b[0m\u001b[0;32m    371\u001b[0m                 \u001b[0mresults\u001b[0m\u001b[1;33m.\u001b[0m\u001b[0mappend\u001b[0m\u001b[1;33m(\u001b[0m\u001b[0mnew_res\u001b[0m\u001b[1;33m)\u001b[0m\u001b[1;33m\u001b[0m\u001b[1;33m\u001b[0m\u001b[0m\n\u001b[0;32m    372\u001b[0m                 \u001b[0mindices\u001b[0m\u001b[1;33m.\u001b[0m\u001b[0mappend\u001b[0m\u001b[1;33m(\u001b[0m\u001b[0mindex\u001b[0m\u001b[1;33m)\u001b[0m\u001b[1;33m\u001b[0m\u001b[1;33m\u001b[0m\u001b[0m\n\u001b[0;32m    373\u001b[0m             \u001b[0mkeys\u001b[0m \u001b[1;33m=\u001b[0m \u001b[0mselected_obj\u001b[0m\u001b[1;33m.\u001b[0m\u001b[0mcolumns\u001b[0m\u001b[1;33m.\u001b[0m\u001b[0mtake\u001b[0m\u001b[1;33m(\u001b[0m\u001b[0mindices\u001b[0m\u001b[1;33m)\u001b[0m\u001b[1;33m\u001b[0m\u001b[1;33m\u001b[0m\u001b[0m\n",
      "\u001b[1;32mc:\\Users\\zackd\\miniconda3\\Lib\\site-packages\\pandas\\core\\groupby\\generic.py\u001b[0m in \u001b[0;36m?\u001b[1;34m(self, func, engine, engine_kwargs, *args, **kwargs)\u001b[0m\n\u001b[0;32m    251\u001b[0m             \u001b[1;31m# but not the class list / tuple itself.\u001b[0m\u001b[1;33m\u001b[0m\u001b[1;33m\u001b[0m\u001b[0m\n\u001b[0;32m    252\u001b[0m             \u001b[0mfunc\u001b[0m \u001b[1;33m=\u001b[0m \u001b[0mmaybe_mangle_lambdas\u001b[0m\u001b[1;33m(\u001b[0m\u001b[0mfunc\u001b[0m\u001b[1;33m)\u001b[0m\u001b[1;33m\u001b[0m\u001b[1;33m\u001b[0m\u001b[0m\n\u001b[0;32m    253\u001b[0m             \u001b[0mkwargs\u001b[0m\u001b[1;33m[\u001b[0m\u001b[1;34m\"engine\"\u001b[0m\u001b[1;33m]\u001b[0m \u001b[1;33m=\u001b[0m \u001b[0mengine\u001b[0m\u001b[1;33m\u001b[0m\u001b[1;33m\u001b[0m\u001b[0m\n\u001b[0;32m    254\u001b[0m             \u001b[0mkwargs\u001b[0m\u001b[1;33m[\u001b[0m\u001b[1;34m\"engine_kwargs\"\u001b[0m\u001b[1;33m]\u001b[0m \u001b[1;33m=\u001b[0m \u001b[0mengine_kwargs\u001b[0m\u001b[1;33m\u001b[0m\u001b[1;33m\u001b[0m\u001b[0m\n\u001b[1;32m--> 255\u001b[1;33m             \u001b[0mret\u001b[0m \u001b[1;33m=\u001b[0m \u001b[0mself\u001b[0m\u001b[1;33m.\u001b[0m\u001b[0m_aggregate_multiple_funcs\u001b[0m\u001b[1;33m(\u001b[0m\u001b[0mfunc\u001b[0m\u001b[1;33m,\u001b[0m \u001b[1;33m*\u001b[0m\u001b[0margs\u001b[0m\u001b[1;33m,\u001b[0m \u001b[1;33m**\u001b[0m\u001b[0mkwargs\u001b[0m\u001b[1;33m)\u001b[0m\u001b[1;33m\u001b[0m\u001b[1;33m\u001b[0m\u001b[0m\n\u001b[0m\u001b[0;32m    256\u001b[0m             \u001b[1;32mif\u001b[0m \u001b[0mrelabeling\u001b[0m\u001b[1;33m:\u001b[0m\u001b[1;33m\u001b[0m\u001b[1;33m\u001b[0m\u001b[0m\n\u001b[0;32m    257\u001b[0m                 \u001b[1;31m# columns is not narrowed by mypy from relabeling flag\u001b[0m\u001b[1;33m\u001b[0m\u001b[1;33m\u001b[0m\u001b[0m\n\u001b[0;32m    258\u001b[0m                 \u001b[1;32massert\u001b[0m \u001b[0mcolumns\u001b[0m \u001b[1;32mis\u001b[0m \u001b[1;32mnot\u001b[0m \u001b[1;32mNone\u001b[0m  \u001b[1;31m# for mypy\u001b[0m\u001b[1;33m\u001b[0m\u001b[1;33m\u001b[0m\u001b[0m\n",
      "\u001b[1;32mc:\\Users\\zackd\\miniconda3\\Lib\\site-packages\\pandas\\core\\groupby\\generic.py\u001b[0m in \u001b[0;36m?\u001b[1;34m(self, arg, *args, **kwargs)\u001b[0m\n\u001b[0;32m    356\u001b[0m             \u001b[1;31m# Combine results using the index, need to adjust index after\u001b[0m\u001b[1;33m\u001b[0m\u001b[1;33m\u001b[0m\u001b[0m\n\u001b[0;32m    357\u001b[0m             \u001b[1;31m# if as_index=False (GH#50724)\u001b[0m\u001b[1;33m\u001b[0m\u001b[1;33m\u001b[0m\u001b[0m\n\u001b[0;32m    358\u001b[0m             \u001b[1;32mfor\u001b[0m \u001b[0midx\u001b[0m\u001b[1;33m,\u001b[0m \u001b[1;33m(\u001b[0m\u001b[0mname\u001b[0m\u001b[1;33m,\u001b[0m \u001b[0mfunc\u001b[0m\u001b[1;33m)\u001b[0m \u001b[1;32min\u001b[0m \u001b[0menumerate\u001b[0m\u001b[1;33m(\u001b[0m\u001b[0marg\u001b[0m\u001b[1;33m)\u001b[0m\u001b[1;33m:\u001b[0m\u001b[1;33m\u001b[0m\u001b[1;33m\u001b[0m\u001b[0m\n\u001b[0;32m    359\u001b[0m                 \u001b[0mkey\u001b[0m \u001b[1;33m=\u001b[0m \u001b[0mbase\u001b[0m\u001b[1;33m.\u001b[0m\u001b[0mOutputKey\u001b[0m\u001b[1;33m(\u001b[0m\u001b[0mlabel\u001b[0m\u001b[1;33m=\u001b[0m\u001b[0mname\u001b[0m\u001b[1;33m,\u001b[0m \u001b[0mposition\u001b[0m\u001b[1;33m=\u001b[0m\u001b[0midx\u001b[0m\u001b[1;33m)\u001b[0m\u001b[1;33m\u001b[0m\u001b[1;33m\u001b[0m\u001b[0m\n\u001b[1;32m--> 360\u001b[1;33m                 \u001b[0mresults\u001b[0m\u001b[1;33m[\u001b[0m\u001b[0mkey\u001b[0m\u001b[1;33m]\u001b[0m \u001b[1;33m=\u001b[0m \u001b[0mself\u001b[0m\u001b[1;33m.\u001b[0m\u001b[0maggregate\u001b[0m\u001b[1;33m(\u001b[0m\u001b[0mfunc\u001b[0m\u001b[1;33m,\u001b[0m \u001b[1;33m*\u001b[0m\u001b[0margs\u001b[0m\u001b[1;33m,\u001b[0m \u001b[1;33m**\u001b[0m\u001b[0mkwargs\u001b[0m\u001b[1;33m)\u001b[0m\u001b[1;33m\u001b[0m\u001b[1;33m\u001b[0m\u001b[0m\n\u001b[0m\u001b[0;32m    361\u001b[0m \u001b[1;33m\u001b[0m\u001b[0m\n\u001b[0;32m    362\u001b[0m         \u001b[1;32mif\u001b[0m \u001b[0many\u001b[0m\u001b[1;33m(\u001b[0m\u001b[0misinstance\u001b[0m\u001b[1;33m(\u001b[0m\u001b[0mx\u001b[0m\u001b[1;33m,\u001b[0m \u001b[0mDataFrame\u001b[0m\u001b[1;33m)\u001b[0m \u001b[1;32mfor\u001b[0m \u001b[0mx\u001b[0m \u001b[1;32min\u001b[0m \u001b[0mresults\u001b[0m\u001b[1;33m.\u001b[0m\u001b[0mvalues\u001b[0m\u001b[1;33m(\u001b[0m\u001b[1;33m)\u001b[0m\u001b[1;33m)\u001b[0m\u001b[1;33m:\u001b[0m\u001b[1;33m\u001b[0m\u001b[1;33m\u001b[0m\u001b[0m\n\u001b[0;32m    363\u001b[0m             \u001b[1;32mfrom\u001b[0m \u001b[0mpandas\u001b[0m \u001b[1;32mimport\u001b[0m \u001b[0mconcat\u001b[0m\u001b[1;33m\u001b[0m\u001b[1;33m\u001b[0m\u001b[0m\n",
      "\u001b[1;32mc:\\Users\\zackd\\miniconda3\\Lib\\site-packages\\pandas\\core\\groupby\\generic.py\u001b[0m in \u001b[0;36m?\u001b[1;34m(self, func, engine, engine_kwargs, *args, **kwargs)\u001b[0m\n\u001b[0;32m    289\u001b[0m                 \u001b[1;32mreturn\u001b[0m \u001b[0mself\u001b[0m\u001b[1;33m.\u001b[0m\u001b[0m_python_agg_general\u001b[0m\u001b[1;33m(\u001b[0m\u001b[0mfunc\u001b[0m\u001b[1;33m,\u001b[0m \u001b[1;33m*\u001b[0m\u001b[0margs\u001b[0m\u001b[1;33m,\u001b[0m \u001b[1;33m**\u001b[0m\u001b[0mkwargs\u001b[0m\u001b[1;33m)\u001b[0m\u001b[1;33m\u001b[0m\u001b[1;33m\u001b[0m\u001b[0m\n\u001b[0;32m    290\u001b[0m \u001b[1;33m\u001b[0m\u001b[0m\n\u001b[0;32m    291\u001b[0m             \u001b[1;32mtry\u001b[0m\u001b[1;33m:\u001b[0m\u001b[1;33m\u001b[0m\u001b[1;33m\u001b[0m\u001b[0m\n\u001b[0;32m    292\u001b[0m                 \u001b[1;32mreturn\u001b[0m \u001b[0mself\u001b[0m\u001b[1;33m.\u001b[0m\u001b[0m_python_agg_general\u001b[0m\u001b[1;33m(\u001b[0m\u001b[0mfunc\u001b[0m\u001b[1;33m,\u001b[0m \u001b[1;33m*\u001b[0m\u001b[0margs\u001b[0m\u001b[1;33m,\u001b[0m \u001b[1;33m**\u001b[0m\u001b[0mkwargs\u001b[0m\u001b[1;33m)\u001b[0m\u001b[1;33m\u001b[0m\u001b[1;33m\u001b[0m\u001b[0m\n\u001b[1;32m--> 293\u001b[1;33m             \u001b[1;32mexcept\u001b[0m \u001b[0mKeyError\u001b[0m\u001b[1;33m:\u001b[0m\u001b[1;33m\u001b[0m\u001b[1;33m\u001b[0m\u001b[0m\n\u001b[0m\u001b[0;32m    294\u001b[0m                 \u001b[1;31m# KeyError raised in test_groupby.test_basic is bc the func does\u001b[0m\u001b[1;33m\u001b[0m\u001b[1;33m\u001b[0m\u001b[0m\n\u001b[0;32m    295\u001b[0m                 \u001b[1;31m#  a dictionary lookup on group.name, but group name is not\u001b[0m\u001b[1;33m\u001b[0m\u001b[1;33m\u001b[0m\u001b[0m\n\u001b[0;32m    296\u001b[0m                 \u001b[1;31m#  pinned in _python_agg_general, only in _aggregate_named\u001b[0m\u001b[1;33m\u001b[0m\u001b[1;33m\u001b[0m\u001b[0m\n",
      "\u001b[1;32mc:\\Users\\zackd\\miniconda3\\Lib\\site-packages\\pandas\\core\\groupby\\generic.py\u001b[0m in \u001b[0;36m?\u001b[1;34m(self, func, *args, **kwargs)\u001b[0m\n\u001b[0;32m    321\u001b[0m             \u001b[0mwarn_alias_replacement\u001b[0m\u001b[1;33m(\u001b[0m\u001b[0mself\u001b[0m\u001b[1;33m,\u001b[0m \u001b[0morig_func\u001b[0m\u001b[1;33m,\u001b[0m \u001b[0malias\u001b[0m\u001b[1;33m)\u001b[0m\u001b[1;33m\u001b[0m\u001b[1;33m\u001b[0m\u001b[0m\n\u001b[0;32m    322\u001b[0m         \u001b[0mf\u001b[0m \u001b[1;33m=\u001b[0m \u001b[1;32mlambda\u001b[0m \u001b[0mx\u001b[0m\u001b[1;33m:\u001b[0m \u001b[0mfunc\u001b[0m\u001b[1;33m(\u001b[0m\u001b[0mx\u001b[0m\u001b[1;33m,\u001b[0m \u001b[1;33m*\u001b[0m\u001b[0margs\u001b[0m\u001b[1;33m,\u001b[0m \u001b[1;33m**\u001b[0m\u001b[0mkwargs\u001b[0m\u001b[1;33m)\u001b[0m\u001b[1;33m\u001b[0m\u001b[1;33m\u001b[0m\u001b[0m\n\u001b[0;32m    323\u001b[0m \u001b[1;33m\u001b[0m\u001b[0m\n\u001b[0;32m    324\u001b[0m         \u001b[0mobj\u001b[0m \u001b[1;33m=\u001b[0m \u001b[0mself\u001b[0m\u001b[1;33m.\u001b[0m\u001b[0m_obj_with_exclusions\u001b[0m\u001b[1;33m\u001b[0m\u001b[1;33m\u001b[0m\u001b[0m\n\u001b[1;32m--> 325\u001b[1;33m         \u001b[0mresult\u001b[0m \u001b[1;33m=\u001b[0m \u001b[0mself\u001b[0m\u001b[1;33m.\u001b[0m\u001b[0mgrouper\u001b[0m\u001b[1;33m.\u001b[0m\u001b[0magg_series\u001b[0m\u001b[1;33m(\u001b[0m\u001b[0mobj\u001b[0m\u001b[1;33m,\u001b[0m \u001b[0mf\u001b[0m\u001b[1;33m)\u001b[0m\u001b[1;33m\u001b[0m\u001b[1;33m\u001b[0m\u001b[0m\n\u001b[0m\u001b[0;32m    326\u001b[0m         \u001b[0mres\u001b[0m \u001b[1;33m=\u001b[0m \u001b[0mobj\u001b[0m\u001b[1;33m.\u001b[0m\u001b[0m_constructor\u001b[0m\u001b[1;33m(\u001b[0m\u001b[0mresult\u001b[0m\u001b[1;33m,\u001b[0m \u001b[0mname\u001b[0m\u001b[1;33m=\u001b[0m\u001b[0mobj\u001b[0m\u001b[1;33m.\u001b[0m\u001b[0mname\u001b[0m\u001b[1;33m)\u001b[0m\u001b[1;33m\u001b[0m\u001b[1;33m\u001b[0m\u001b[0m\n\u001b[0;32m    327\u001b[0m         \u001b[1;32mreturn\u001b[0m \u001b[0mself\u001b[0m\u001b[1;33m.\u001b[0m\u001b[0m_wrap_aggregated_output\u001b[0m\u001b[1;33m(\u001b[0m\u001b[0mres\u001b[0m\u001b[1;33m)\u001b[0m\u001b[1;33m\u001b[0m\u001b[1;33m\u001b[0m\u001b[0m\n",
      "\u001b[1;32mc:\\Users\\zackd\\miniconda3\\Lib\\site-packages\\pandas\\core\\groupby\\ops.py\u001b[0m in \u001b[0;36m?\u001b[1;34m(self, obj, func, preserve_dtype)\u001b[0m\n\u001b[0;32m    845\u001b[0m             \u001b[1;31m#  with _from_sequence.  NB we are assuming here that _from_sequence\u001b[0m\u001b[1;33m\u001b[0m\u001b[1;33m\u001b[0m\u001b[0m\n\u001b[0;32m    846\u001b[0m             \u001b[1;31m#  is sufficiently strict that it casts appropriately.\u001b[0m\u001b[1;33m\u001b[0m\u001b[1;33m\u001b[0m\u001b[0m\n\u001b[0;32m    847\u001b[0m             \u001b[0mpreserve_dtype\u001b[0m \u001b[1;33m=\u001b[0m \u001b[1;32mTrue\u001b[0m\u001b[1;33m\u001b[0m\u001b[1;33m\u001b[0m\u001b[0m\n\u001b[0;32m    848\u001b[0m \u001b[1;33m\u001b[0m\u001b[0m\n\u001b[1;32m--> 849\u001b[1;33m         \u001b[0mresult\u001b[0m \u001b[1;33m=\u001b[0m \u001b[0mself\u001b[0m\u001b[1;33m.\u001b[0m\u001b[0m_aggregate_series_pure_python\u001b[0m\u001b[1;33m(\u001b[0m\u001b[0mobj\u001b[0m\u001b[1;33m,\u001b[0m \u001b[0mfunc\u001b[0m\u001b[1;33m)\u001b[0m\u001b[1;33m\u001b[0m\u001b[1;33m\u001b[0m\u001b[0m\n\u001b[0m\u001b[0;32m    850\u001b[0m \u001b[1;33m\u001b[0m\u001b[0m\n\u001b[0;32m    851\u001b[0m         \u001b[1;32mif\u001b[0m \u001b[0mlen\u001b[0m\u001b[1;33m(\u001b[0m\u001b[0mobj\u001b[0m\u001b[1;33m)\u001b[0m \u001b[1;33m==\u001b[0m \u001b[1;36m0\u001b[0m \u001b[1;32mand\u001b[0m \u001b[0mlen\u001b[0m\u001b[1;33m(\u001b[0m\u001b[0mresult\u001b[0m\u001b[1;33m)\u001b[0m \u001b[1;33m==\u001b[0m \u001b[1;36m0\u001b[0m \u001b[1;32mand\u001b[0m \u001b[0misinstance\u001b[0m\u001b[1;33m(\u001b[0m\u001b[0mobj\u001b[0m\u001b[1;33m.\u001b[0m\u001b[0mdtype\u001b[0m\u001b[1;33m,\u001b[0m \u001b[0mExtensionDtype\u001b[0m\u001b[1;33m)\u001b[0m\u001b[1;33m:\u001b[0m\u001b[1;33m\u001b[0m\u001b[1;33m\u001b[0m\u001b[0m\n\u001b[0;32m    852\u001b[0m             \u001b[0mcls\u001b[0m \u001b[1;33m=\u001b[0m \u001b[0mobj\u001b[0m\u001b[1;33m.\u001b[0m\u001b[0mdtype\u001b[0m\u001b[1;33m.\u001b[0m\u001b[0mconstruct_array_type\u001b[0m\u001b[1;33m(\u001b[0m\u001b[1;33m)\u001b[0m\u001b[1;33m\u001b[0m\u001b[1;33m\u001b[0m\u001b[0m\n",
      "\u001b[1;32mc:\\Users\\zackd\\miniconda3\\Lib\\site-packages\\pandas\\core\\groupby\\ops.py\u001b[0m in \u001b[0;36m?\u001b[1;34m(self, obj, func)\u001b[0m\n\u001b[0;32m    873\u001b[0m \u001b[1;33m\u001b[0m\u001b[0m\n\u001b[0;32m    874\u001b[0m         \u001b[0msplitter\u001b[0m \u001b[1;33m=\u001b[0m \u001b[0mself\u001b[0m\u001b[1;33m.\u001b[0m\u001b[0m_get_splitter\u001b[0m\u001b[1;33m(\u001b[0m\u001b[0mobj\u001b[0m\u001b[1;33m,\u001b[0m \u001b[0maxis\u001b[0m\u001b[1;33m=\u001b[0m\u001b[1;36m0\u001b[0m\u001b[1;33m)\u001b[0m\u001b[1;33m\u001b[0m\u001b[1;33m\u001b[0m\u001b[0m\n\u001b[0;32m    875\u001b[0m \u001b[1;33m\u001b[0m\u001b[0m\n\u001b[0;32m    876\u001b[0m         \u001b[1;32mfor\u001b[0m \u001b[0mi\u001b[0m\u001b[1;33m,\u001b[0m \u001b[0mgroup\u001b[0m \u001b[1;32min\u001b[0m \u001b[0menumerate\u001b[0m\u001b[1;33m(\u001b[0m\u001b[0msplitter\u001b[0m\u001b[1;33m)\u001b[0m\u001b[1;33m:\u001b[0m\u001b[1;33m\u001b[0m\u001b[1;33m\u001b[0m\u001b[0m\n\u001b[1;32m--> 877\u001b[1;33m             \u001b[0mres\u001b[0m \u001b[1;33m=\u001b[0m \u001b[0mfunc\u001b[0m\u001b[1;33m(\u001b[0m\u001b[0mgroup\u001b[0m\u001b[1;33m)\u001b[0m\u001b[1;33m\u001b[0m\u001b[1;33m\u001b[0m\u001b[0m\n\u001b[0m\u001b[0;32m    878\u001b[0m             \u001b[0mres\u001b[0m \u001b[1;33m=\u001b[0m \u001b[0mextract_result\u001b[0m\u001b[1;33m(\u001b[0m\u001b[0mres\u001b[0m\u001b[1;33m)\u001b[0m\u001b[1;33m\u001b[0m\u001b[1;33m\u001b[0m\u001b[0m\n\u001b[0;32m    879\u001b[0m \u001b[1;33m\u001b[0m\u001b[0m\n\u001b[0;32m    880\u001b[0m             \u001b[1;32mif\u001b[0m \u001b[1;32mnot\u001b[0m \u001b[0minitialized\u001b[0m\u001b[1;33m:\u001b[0m\u001b[1;33m\u001b[0m\u001b[1;33m\u001b[0m\u001b[0m\n",
      "\u001b[1;32mc:\\Users\\zackd\\miniconda3\\Lib\\site-packages\\pandas\\core\\groupby\\generic.py\u001b[0m in \u001b[0;36m?\u001b[1;34m(x)\u001b[0m\n\u001b[1;32m--> 322\u001b[1;33m         \u001b[0mf\u001b[0m \u001b[1;33m=\u001b[0m \u001b[1;32mlambda\u001b[0m \u001b[0mx\u001b[0m\u001b[1;33m:\u001b[0m \u001b[0mfunc\u001b[0m\u001b[1;33m(\u001b[0m\u001b[0mx\u001b[0m\u001b[1;33m,\u001b[0m \u001b[1;33m*\u001b[0m\u001b[0margs\u001b[0m\u001b[1;33m,\u001b[0m \u001b[1;33m**\u001b[0m\u001b[0mkwargs\u001b[0m\u001b[1;33m)\u001b[0m\u001b[1;33m\u001b[0m\u001b[1;33m\u001b[0m\u001b[0m\n\u001b[0m",
      "\u001b[1;32mc:\\Users\\zackd\\miniconda3\\Lib\\site-packages\\pandas\\core\\series.py\u001b[0m in \u001b[0;36m?\u001b[1;34m(self, axis, skipna, numeric_only, **kwargs)\u001b[0m\n\u001b[0;32m   6221\u001b[0m         \u001b[0mskipna\u001b[0m\u001b[1;33m:\u001b[0m \u001b[0mbool\u001b[0m \u001b[1;33m=\u001b[0m \u001b[1;32mTrue\u001b[0m\u001b[1;33m,\u001b[0m\u001b[1;33m\u001b[0m\u001b[1;33m\u001b[0m\u001b[0m\n\u001b[0;32m   6222\u001b[0m         \u001b[0mnumeric_only\u001b[0m\u001b[1;33m:\u001b[0m \u001b[0mbool\u001b[0m \u001b[1;33m=\u001b[0m \u001b[1;32mFalse\u001b[0m\u001b[1;33m,\u001b[0m\u001b[1;33m\u001b[0m\u001b[1;33m\u001b[0m\u001b[0m\n\u001b[0;32m   6223\u001b[0m         \u001b[1;33m**\u001b[0m\u001b[0mkwargs\u001b[0m\u001b[1;33m,\u001b[0m\u001b[1;33m\u001b[0m\u001b[1;33m\u001b[0m\u001b[0m\n\u001b[0;32m   6224\u001b[0m     ):\n\u001b[1;32m-> 6225\u001b[1;33m         \u001b[1;32mreturn\u001b[0m \u001b[0mNDFrame\u001b[0m\u001b[1;33m.\u001b[0m\u001b[0mmean\u001b[0m\u001b[1;33m(\u001b[0m\u001b[0mself\u001b[0m\u001b[1;33m,\u001b[0m \u001b[0maxis\u001b[0m\u001b[1;33m,\u001b[0m \u001b[0mskipna\u001b[0m\u001b[1;33m,\u001b[0m \u001b[0mnumeric_only\u001b[0m\u001b[1;33m,\u001b[0m \u001b[1;33m**\u001b[0m\u001b[0mkwargs\u001b[0m\u001b[1;33m)\u001b[0m\u001b[1;33m\u001b[0m\u001b[1;33m\u001b[0m\u001b[0m\n\u001b[0m",
      "\u001b[1;32mc:\\Users\\zackd\\miniconda3\\Lib\\site-packages\\pandas\\core\\generic.py\u001b[0m in \u001b[0;36m?\u001b[1;34m(self, axis, skipna, numeric_only, **kwargs)\u001b[0m\n\u001b[0;32m  11988\u001b[0m         \u001b[0mskipna\u001b[0m\u001b[1;33m:\u001b[0m \u001b[0mbool_t\u001b[0m \u001b[1;33m=\u001b[0m \u001b[1;32mTrue\u001b[0m\u001b[1;33m,\u001b[0m\u001b[1;33m\u001b[0m\u001b[1;33m\u001b[0m\u001b[0m\n\u001b[0;32m  11989\u001b[0m         \u001b[0mnumeric_only\u001b[0m\u001b[1;33m:\u001b[0m \u001b[0mbool_t\u001b[0m \u001b[1;33m=\u001b[0m \u001b[1;32mFalse\u001b[0m\u001b[1;33m,\u001b[0m\u001b[1;33m\u001b[0m\u001b[1;33m\u001b[0m\u001b[0m\n\u001b[0;32m  11990\u001b[0m         \u001b[1;33m**\u001b[0m\u001b[0mkwargs\u001b[0m\u001b[1;33m,\u001b[0m\u001b[1;33m\u001b[0m\u001b[1;33m\u001b[0m\u001b[0m\n\u001b[0;32m  11991\u001b[0m     ) -> Series | float:\n\u001b[1;32m> 11992\u001b[1;33m         return self._stat_function(\n\u001b[0m\u001b[0;32m  11993\u001b[0m             \u001b[1;34m\"mean\"\u001b[0m\u001b[1;33m,\u001b[0m \u001b[0mnanops\u001b[0m\u001b[1;33m.\u001b[0m\u001b[0mnanmean\u001b[0m\u001b[1;33m,\u001b[0m \u001b[0maxis\u001b[0m\u001b[1;33m,\u001b[0m \u001b[0mskipna\u001b[0m\u001b[1;33m,\u001b[0m \u001b[0mnumeric_only\u001b[0m\u001b[1;33m,\u001b[0m \u001b[1;33m**\u001b[0m\u001b[0mkwargs\u001b[0m\u001b[1;33m\u001b[0m\u001b[1;33m\u001b[0m\u001b[0m\n\u001b[0;32m  11994\u001b[0m         )\n",
      "\u001b[1;32mc:\\Users\\zackd\\miniconda3\\Lib\\site-packages\\pandas\\core\\generic.py\u001b[0m in \u001b[0;36m?\u001b[1;34m(self, name, func, axis, skipna, numeric_only, **kwargs)\u001b[0m\n\u001b[0;32m  11945\u001b[0m         \u001b[0mnv\u001b[0m\u001b[1;33m.\u001b[0m\u001b[0mvalidate_func\u001b[0m\u001b[1;33m(\u001b[0m\u001b[0mname\u001b[0m\u001b[1;33m,\u001b[0m \u001b[1;33m(\u001b[0m\u001b[1;33m)\u001b[0m\u001b[1;33m,\u001b[0m \u001b[0mkwargs\u001b[0m\u001b[1;33m)\u001b[0m\u001b[1;33m\u001b[0m\u001b[1;33m\u001b[0m\u001b[0m\n\u001b[0;32m  11946\u001b[0m \u001b[1;33m\u001b[0m\u001b[0m\n\u001b[0;32m  11947\u001b[0m         \u001b[0mvalidate_bool_kwarg\u001b[0m\u001b[1;33m(\u001b[0m\u001b[0mskipna\u001b[0m\u001b[1;33m,\u001b[0m \u001b[1;34m\"skipna\"\u001b[0m\u001b[1;33m,\u001b[0m \u001b[0mnone_allowed\u001b[0m\u001b[1;33m=\u001b[0m\u001b[1;32mFalse\u001b[0m\u001b[1;33m)\u001b[0m\u001b[1;33m\u001b[0m\u001b[1;33m\u001b[0m\u001b[0m\n\u001b[0;32m  11948\u001b[0m \u001b[1;33m\u001b[0m\u001b[0m\n\u001b[1;32m> 11949\u001b[1;33m         return self._reduce(\n\u001b[0m\u001b[0;32m  11950\u001b[0m             \u001b[0mfunc\u001b[0m\u001b[1;33m,\u001b[0m \u001b[0mname\u001b[0m\u001b[1;33m=\u001b[0m\u001b[0mname\u001b[0m\u001b[1;33m,\u001b[0m \u001b[0maxis\u001b[0m\u001b[1;33m=\u001b[0m\u001b[0maxis\u001b[0m\u001b[1;33m,\u001b[0m \u001b[0mskipna\u001b[0m\u001b[1;33m=\u001b[0m\u001b[0mskipna\u001b[0m\u001b[1;33m,\u001b[0m \u001b[0mnumeric_only\u001b[0m\u001b[1;33m=\u001b[0m\u001b[0mnumeric_only\u001b[0m\u001b[1;33m\u001b[0m\u001b[1;33m\u001b[0m\u001b[0m\n\u001b[0;32m  11951\u001b[0m         )\n",
      "\u001b[1;32mc:\\Users\\zackd\\miniconda3\\Lib\\site-packages\\pandas\\core\\series.py\u001b[0m in \u001b[0;36m?\u001b[1;34m(self, op, name, axis, skipna, numeric_only, filter_type, **kwds)\u001b[0m\n\u001b[0;32m   6111\u001b[0m         \"\"\"\n\u001b[0;32m   6112\u001b[0m         \u001b[0mdelegate\u001b[0m \u001b[1;33m=\u001b[0m \u001b[0mself\u001b[0m\u001b[1;33m.\u001b[0m\u001b[0m_values\u001b[0m\u001b[1;33m\u001b[0m\u001b[1;33m\u001b[0m\u001b[0m\n\u001b[0;32m   6113\u001b[0m \u001b[1;33m\u001b[0m\u001b[0m\n\u001b[0;32m   6114\u001b[0m         \u001b[1;32mif\u001b[0m \u001b[0maxis\u001b[0m \u001b[1;32mis\u001b[0m \u001b[1;32mnot\u001b[0m \u001b[1;32mNone\u001b[0m\u001b[1;33m:\u001b[0m\u001b[1;33m\u001b[0m\u001b[1;33m\u001b[0m\u001b[0m\n\u001b[1;32m-> 6115\u001b[1;33m             \u001b[0mself\u001b[0m\u001b[1;33m.\u001b[0m\u001b[0m_get_axis_number\u001b[0m\u001b[1;33m(\u001b[0m\u001b[0maxis\u001b[0m\u001b[1;33m)\u001b[0m\u001b[1;33m\u001b[0m\u001b[1;33m\u001b[0m\u001b[0m\n\u001b[0m\u001b[0;32m   6116\u001b[0m \u001b[1;33m\u001b[0m\u001b[0m\n\u001b[0;32m   6117\u001b[0m         \u001b[1;32mif\u001b[0m \u001b[0misinstance\u001b[0m\u001b[1;33m(\u001b[0m\u001b[0mdelegate\u001b[0m\u001b[1;33m,\u001b[0m \u001b[0mExtensionArray\u001b[0m\u001b[1;33m)\u001b[0m\u001b[1;33m:\u001b[0m\u001b[1;33m\u001b[0m\u001b[1;33m\u001b[0m\u001b[0m\n\u001b[0;32m   6118\u001b[0m             \u001b[1;31m# dispatch to ExtensionArray interface\u001b[0m\u001b[1;33m\u001b[0m\u001b[1;33m\u001b[0m\u001b[0m\n",
      "\u001b[1;32mc:\\Users\\zackd\\miniconda3\\Lib\\site-packages\\pandas\\core\\generic.py\u001b[0m in \u001b[0;36m?\u001b[1;34m(cls, axis)\u001b[0m\n\u001b[0;32m    549\u001b[0m     \u001b[1;33m@\u001b[0m\u001b[0mclassmethod\u001b[0m\u001b[1;33m\u001b[0m\u001b[1;33m\u001b[0m\u001b[0m\n\u001b[0;32m    550\u001b[0m     \u001b[1;32mdef\u001b[0m \u001b[0m_get_axis_number\u001b[0m\u001b[1;33m(\u001b[0m\u001b[0mcls\u001b[0m\u001b[1;33m,\u001b[0m \u001b[0maxis\u001b[0m\u001b[1;33m:\u001b[0m \u001b[0mAxis\u001b[0m\u001b[1;33m)\u001b[0m \u001b[1;33m->\u001b[0m \u001b[0mAxisInt\u001b[0m\u001b[1;33m:\u001b[0m\u001b[1;33m\u001b[0m\u001b[1;33m\u001b[0m\u001b[0m\n\u001b[0;32m    551\u001b[0m         \u001b[1;32mtry\u001b[0m\u001b[1;33m:\u001b[0m\u001b[1;33m\u001b[0m\u001b[1;33m\u001b[0m\u001b[0m\n\u001b[0;32m    552\u001b[0m             \u001b[1;32mreturn\u001b[0m \u001b[0mcls\u001b[0m\u001b[1;33m.\u001b[0m\u001b[0m_AXIS_TO_AXIS_NUMBER\u001b[0m\u001b[1;33m[\u001b[0m\u001b[0maxis\u001b[0m\u001b[1;33m]\u001b[0m\u001b[1;33m\u001b[0m\u001b[1;33m\u001b[0m\u001b[0m\n\u001b[1;32m--> 553\u001b[1;33m         \u001b[1;32mexcept\u001b[0m \u001b[0mKeyError\u001b[0m\u001b[1;33m:\u001b[0m\u001b[1;33m\u001b[0m\u001b[1;33m\u001b[0m\u001b[0m\n\u001b[0m\u001b[0;32m    554\u001b[0m             \u001b[1;32mraise\u001b[0m \u001b[0mValueError\u001b[0m\u001b[1;33m(\u001b[0m\u001b[1;34mf\"No axis named {axis} for object type {cls.__name__}\"\u001b[0m\u001b[1;33m)\u001b[0m\u001b[1;33m\u001b[0m\u001b[1;33m\u001b[0m\u001b[0m\n",
      "\u001b[1;31mTypeError\u001b[0m: unhashable type: 'Series'"
     ]
    }
   ],
   "source": [
    "\n",
    "\n",
    "\n",
    "\n",
    "# YOUR CODE HERE\n",
    "\n",
    "data['delivery_time'] = data['order_delivered_carrier_date'] - data['order_delivered_customer_date']\n",
    "data.dtypes\n",
    "data['delivery_time_days'] = data['delivery_time'].dt.days\n",
    "data.dtypes\n",
    "newdf = data.groupby(data['product_category_name_english']).agg(data['delivery_time_days'].mean)\n"
   ]
  },
  {
   "cell_type": "markdown",
   "metadata": {},
   "source": [
    "\n",
    "4. Create a box plot for delivery time for each category (optional hint: You can use `Seaborn` to have plot nicer boxplot)\n",
    "\n",
    "(note: You can play with boxplot setting, for example if you see your plot is too busy and not readable, you can set `showfliers=False` to prevent showing outliars, and you can change label rotation to 90.)\n"
   ]
  },
  {
   "cell_type": "code",
   "execution_count": null,
   "metadata": {},
   "outputs": [
    {
     "data": {
      "text/plain": [
       "<Figure size 1200x600 with 0 Axes>"
      ]
     },
     "metadata": {},
     "output_type": "display_data"
    }
   ],
   "source": [
    "# Import the necessary packages\n",
    "import matplotlib.pyplot as plt\n",
    "# import seaborn as sns         # optionally you can use seaborn style\n",
    "\n",
    "plt.figure(figsize=(12, 6))\n",
    "\n",
    "\n",
    "\n",
    "# YOUR CODE HERE\n",
    "\n",
    "\n",
    "\n",
    "\n",
    "plt.show()"
   ]
  },
  {
   "cell_type": "markdown",
   "metadata": {},
   "source": [
    "### Question 3:\n",
    "\n",
    "3. Let's dig into the box plot. What can you tell us about the range and distribution? Share your insights and let's decode the boxes!"
   ]
  },
  {
   "cell_type": "markdown",
   "metadata": {},
   "source": [
    "YOUR ANSWER HERE"
   ]
  },
  {
   "cell_type": "markdown",
   "metadata": {},
   "source": [
    "### Step 5: What Does the Distribution Tell Us About Shipment Costs?\n",
    "\n",
    "To explore the distribution of shipment prices, follow these steps:\n",
    "\n",
    "1. Extract the 'shipment_price' column from your dataset.\n",
    "2. Use the data to create a histogram, visualizing the frequency distribution of shipment prices.\n",
    "3. Customize the histogram with appropriate bins and labels for clarity.\n"
   ]
  },
  {
   "cell_type": "code",
   "execution_count": null,
   "metadata": {},
   "outputs": [
    {
     "data": {
      "text/plain": [
       "<Figure size 1200x600 with 0 Axes>"
      ]
     },
     "metadata": {},
     "output_type": "display_data"
    }
   ],
   "source": [
    "# Import the necessary packages\n",
    "import matplotlib.pyplot as plt\n",
    "import seaborn as sns         # optionally you can use seaborn style\n",
    "\n",
    "plt.figure(figsize=(12, 6))\n",
    "\n",
    "\n",
    "\n",
    "# YOUR CODE HERE\n",
    "#data6 = data.groupby(data['shipment_price'])\n",
    "\n",
    "data.head()\n",
    "\n",
    "#sns.histplot(data=data['freight_value'])\n",
    "\n",
    "\n",
    "\n",
    "plt.show()"
   ]
  },
  {
   "cell_type": "markdown",
   "metadata": {},
   "source": [
    "### Question 4:\n",
    "\n",
    "4. Take a closer look at the histogram! What insights can you gather about how shipment prices are spread out? Dive into the details and share your findings\n",
    "\n",
    "*Hint : (trye to recap lecture materials about historgram and different data distribution!)*"
   ]
  },
  {
   "cell_type": "markdown",
   "metadata": {},
   "source": [
    "YOUR ANSWER HERE"
   ]
  },
  {
   "cell_type": "markdown",
   "metadata": {},
   "source": [
    "## Part 4 (Map Visualization)"
   ]
  },
  {
   "cell_type": "markdown",
   "metadata": {},
   "source": [
    "### Step 1: Where are customers?\n",
    "\n",
    "To visualize the geographical distribution of customers, follow these steps:\n",
    "\n",
    "(try to show first 10,000 customers on map as showing all customer locaitons make the map too heavy)\n",
    "\n",
    "1. Iterate through the DataFrame, (it is better to just work with first 10,000 customers as showing all customers on map makes the map too heavy and your computer may crash!)\n",
    "2. Use the 'customer_latitude' and 'customer_longitude' columns to extract the location information for each customer.\n",
    "3. Use Folium map library to add a `CircleMarker` for each customer on the map.\n",
    "4. Customize the appearance of the markers to enhance visibility and aesthetics.\n",
    "5. Display the interactive map, showcasing the locations of the first 10,000 customers.\n"
   ]
  },
  {
   "cell_type": "code",
   "execution_count": null,
   "metadata": {},
   "outputs": [
    {
     "ename": "NotImplementedError",
     "evalue": "",
     "output_type": "error",
     "traceback": [
      "\u001b[1;31m---------------------------------------------------------------------------\u001b[0m",
      "\u001b[1;31mNotImplementedError\u001b[0m                       Traceback (most recent call last)",
      "Cell \u001b[1;32mIn[92], line 14\u001b[0m\n\u001b[0;32m      8\u001b[0m m \u001b[38;5;241m=\u001b[39m folium\u001b[38;5;241m.\u001b[39mMap(location\u001b[38;5;241m=\u001b[39m[\u001b[38;5;241m-\u001b[39m\u001b[38;5;241m15.788497\u001b[39m,\u001b[38;5;241m-\u001b[39m\u001b[38;5;241m47.879873\u001b[39m], zoom_start\u001b[38;5;241m=\u001b[39m\u001b[38;5;241m4\u001b[39m)\u001b[38;5;241m.\u001b[39madd_to(f)\n\u001b[0;32m     13\u001b[0m \u001b[38;5;66;03m# YOUR CODE HERE\u001b[39;00m\n\u001b[1;32m---> 14\u001b[0m \u001b[38;5;28;01mraise\u001b[39;00m \u001b[38;5;167;01mNotImplementedError\u001b[39;00m()\n\u001b[0;32m     19\u001b[0m f \u001b[38;5;66;03m# display the map\u001b[39;00m\n",
      "\u001b[1;31mNotImplementedError\u001b[0m: "
     ]
    }
   ],
   "source": [
    "# Import the Folium library for interactive map visualization\n",
    "import folium\n",
    "\n",
    "# Create a Figure object to control the size of the map (width=800 pixels, height=500 pixels)\n",
    "f = folium.Figure(width=800, height=500)\n",
    "\n",
    "# Create a Folium Map object centered at the specified location in Brazil with an initial zoom level of 4\n",
    "m = folium.Map(location=[-15.788497,-47.879873], zoom_start=4).add_to(f)\n",
    "\n",
    "\n",
    "\n",
    "\n",
    "# YOUR CODE HERE\n",
    "raise NotImplementedError()\n",
    "\n",
    "\n",
    "\n",
    "\n",
    "f # display the map"
   ]
  },
  {
   "cell_type": "markdown",
   "metadata": {},
   "source": [
    "### Step 2: Who Pays More for Transportation?\n",
    "\n",
    "Let's uncover the geographical variations in transportation costs with a map. Follow these steps:\n",
    "\n",
    "1. Group the data by 'customer_latitude' and 'customer_longitude'.\n",
    "2. Calculate the average 'freight_value' for each group to determine the transportation fee in different location group.\n",
    "3. Use `Folium` to plot each location on the map, using a `branca.colormap` library to represent the average transportation fee with colormap.\n"
   ]
  },
  {
   "cell_type": "code",
   "execution_count": null,
   "metadata": {},
   "outputs": [],
   "source": [
    "# Import the Folium library for interactive map visualization\n",
    "import folium\n",
    "\n",
    "# Create a Figure object to control the size of the map (width=800 pixels, height=500 pixels)\n",
    "f = folium.Figure(width=800, height=500)\n",
    "\n",
    "# Create a Folium Map object centered at the specified location in Brazil with an initial zoom level of 4\n",
    "m = folium.Map(location=[-15.788497,-47.879873], zoom_start=4).add_to(f)\n",
    "\n",
    "\n",
    "\n",
    "# YOUR CODE HERE\n",
    "raise NotImplementedError()\n",
    "\n",
    "\n",
    "\n",
    "\n",
    "f # display the map"
   ]
  },
  {
   "cell_type": "markdown",
   "metadata": {},
   "source": [
    "### Step 3: Who Waits More to Recieve the Order?\n",
    "\n",
    "Now we want to discover how are the delivery times across the country. To show delivery time base on customer locations you can follow these steps:\n",
    "\n",
    "1. Group the data by 'customer_latitude' and 'customer_longitude'.\n",
    "2. Calculate the average \"delivery_time_days\" (you created this column in Part 3, Step 4) for each group to determine the average delivery time in different location group.\n",
    "3. Use `Folium` to plot each location on the map, using a `branca.colormap` library to represent the average transportation fee with colormap."
   ]
  },
  {
   "cell_type": "code",
   "execution_count": null,
   "metadata": {},
   "outputs": [],
   "source": [
    "# Import the Folium library for interactive map visualization\n",
    "import folium\n",
    "# Import the branca library for colormap manipulation\n",
    "import branca.colormap as cm\n",
    "\n",
    "# Create a Figure object to control the size of the map (width=800 pixels, height=500 pixels)\n",
    "f = folium.Figure(width=800, height=500)\n",
    "\n",
    "# Create a Folium Map object centered at the specified location in Brazil with an initial zoom level of 4\n",
    "m = folium.Map(location=[-15.788497,-47.879873], zoom_start=4).add_to(f)\n",
    "\n",
    "\n",
    "\n",
    "\n",
    "# YOUR CODE HERE\n",
    "raise NotImplementedError()\n",
    "\n",
    "\n",
    "\n",
    "\n",
    "\n",
    "f # display the map"
   ]
  },
  {
   "cell_type": "markdown",
   "metadata": {},
   "source": [
    "### Question 5:\n",
    "\n",
    "Imagine you are the team leader of data analytics department for this online retail company! The CEO declared that the company wants to improve its delivery performance by establishing 2 more inventory hubs (warehouse) as a pre-storage strategy to boost delivery speed and reduce delivery cost for customers. \n",
    "Based on the map visualization from previous steps, which areas would you suggest for placement of new inventory hubs for this company? Don't forget to explain why you suggest those areas! \n",
    "\n",
    "*(Note: You take screen shot from the map and try to indicate 2 areas as candidate areas on the picture and put the picture in your answer.)*"
   ]
  },
  {
   "cell_type": "markdown",
   "metadata": {},
   "source": [
    "YOUR ANSWER HERE"
   ]
  }
 ],
 "metadata": {
  "kernelspec": {
   "display_name": "Python 3",
   "language": "python",
   "name": "python3"
  },
  "language_info": {
   "codemirror_mode": {
    "name": "ipython",
    "version": 3
   },
   "file_extension": ".py",
   "mimetype": "text/x-python",
   "name": "python",
   "nbconvert_exporter": "python",
   "pygments_lexer": "ipython3",
   "version": "3.11.5"
  }
 },
 "nbformat": 4,
 "nbformat_minor": 2
}
